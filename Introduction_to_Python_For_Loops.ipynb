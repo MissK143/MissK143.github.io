{
  "nbformat": 4,
  "nbformat_minor": 0,
  "metadata": {
    "colab": {
      "provenance": [],
      "include_colab_link": true
    },
    "kernelspec": {
      "name": "python3",
      "display_name": "Python 3"
    },
    "language_info": {
      "name": "python"
    }
  },
  "cells": [
    {
      "cell_type": "markdown",
      "metadata": {
        "id": "view-in-github",
        "colab_type": "text"
      },
      "source": [
        "<a href=\"https://colab.research.google.com/github/MissK143/MissK143.github.io/blob/main/Introduction_to_Python_For_Loops.ipynb\" target=\"_parent\"><img src=\"https://colab.research.google.com/assets/colab-badge.svg\" alt=\"Open In Colab\"/></a>"
      ]
    },
    {
      "cell_type": "markdown",
      "source": [
        "# Lesson 6 : For Loops\n",
        "\n",
        "## Introduction\n",
        "\n",
        "### What Are For Loops?\n",
        "A `for` loop in Python allows you to iterate over a sequence (like a list, tuple, dictionary, set, or string) and execute a block of code repeatedly for each item in the sequence. This is one of the most common loop mechanisms in Python, especially useful for processing items in collections.\n",
        "\n",
        "#### When to Use a For Loop?\n",
        "- Iterating through items in a list, tuple, or any iterable.\n",
        "- Performing an action a specific number of times using a range.\n"
      ],
      "metadata": {
        "id": "sfxre0Kuhlr0"
      }
    },
    {
      "cell_type": "markdown",
      "source": [
        "### Basic Syntax\n",
        "The basic syntax of a `for` loop is:\n",
        "\n",
        "```python\n",
        "for variable in iterable:\n",
        "    # Code to execute for each element\n",
        "```\n",
        "* **Variable**: This represents the current element in the iteration. Each iteration updates this variable with the next element in the iterable.\n",
        "* **Iterable**: This is a collection of items over which the loop will run (e.g., list, tuple, string)."
      ],
      "metadata": {
        "id": "kiD2B4s9h4wE"
      }
    },
    {
      "cell_type": "code",
      "source": [
        "# Here's a basic example of a `for` loop that iterates over a list of numbers and prints each number.\n",
        "numbers = [1, 2, 3, 4, 5]"
      ],
      "metadata": {
        "id": "bELY60imhoWd"
      },
      "execution_count": null,
      "outputs": []
    },
    {
      "cell_type": "code",
      "source": [
        "for number in numbers:\n",
        "    print(number)"
      ],
      "metadata": {
        "colab": {
          "base_uri": "https://localhost:8080/"
        },
        "id": "uvo7UyFb78jo",
        "outputId": "a82e9e9e-b9e5-41c4-b77c-fcc33a5801b9"
      },
      "execution_count": null,
      "outputs": [
        {
          "output_type": "stream",
          "name": "stdout",
          "text": [
            "1\n",
            "2\n",
            "3\n",
            "4\n",
            "5\n"
          ]
        }
      ]
    },
    {
      "cell_type": "code",
      "source": [
        "# Create a for loop that iterates over a list of numbers and prints the number multiplied by 2\n",
        "for x in numbers:\n",
        "  print(f\"The number is {x}\")\n",
        "  print(f\"The number {x} multiplied by 2 is {x*2}\")"
      ],
      "metadata": {
        "colab": {
          "base_uri": "https://localhost:8080/"
        },
        "id": "QSOheRZZ78lw",
        "outputId": "aaaaab4f-f0aa-4071-cfe7-48fccc6ba590"
      },
      "execution_count": null,
      "outputs": [
        {
          "output_type": "stream",
          "name": "stdout",
          "text": [
            "The number is 1\n",
            "The number 1 multiplied by 2 is 2\n",
            "The number is 2\n",
            "The number 2 multiplied by 2 is 4\n",
            "The number is 3\n",
            "The number 3 multiplied by 2 is 6\n",
            "The number is 4\n",
            "The number 4 multiplied by 2 is 8\n",
            "The number is 5\n",
            "The number 5 multiplied by 2 is 10\n"
          ]
        }
      ]
    },
    {
      "cell_type": "code",
      "source": [
        "# Create a list for salaries of employees and give every employee a bonus of 2.5% of their salary\n",
        "# Out of the bonus amount, also remove $5 as the transaction fee\n",
        "\n",
        "salary = [10000, 20000, 50000, 15000, 90000]\n",
        "\n",
        "for i in salary:\n",
        "  print(f\"The salary for this employee is {i}\")\n",
        "  print(f\"The bonus amount for this person is {0.025*i}\")\n",
        "  print(f\"The final amount after the transaction fee is {0.025*i - 5}\")\n",
        "  print(\"------------------------------------------------------------\")"
      ],
      "metadata": {
        "colab": {
          "base_uri": "https://localhost:8080/"
        },
        "id": "DybBIyxz78nw",
        "outputId": "e0455d46-216c-4194-8e67-ea0dea32faf4"
      },
      "execution_count": null,
      "outputs": [
        {
          "output_type": "stream",
          "name": "stdout",
          "text": [
            "The salary for this employee is 10000\n",
            "The bonus amount for this person is 250.0\n",
            "The final amount after the transaction fee is 245.0\n",
            "------------------------------------------------------------\n",
            "The salary for this employee is 20000\n",
            "The bonus amount for this person is 500.0\n",
            "The final amount after the transaction fee is 495.0\n",
            "------------------------------------------------------------\n",
            "The salary for this employee is 50000\n",
            "The bonus amount for this person is 1250.0\n",
            "The final amount after the transaction fee is 1245.0\n",
            "------------------------------------------------------------\n",
            "The salary for this employee is 15000\n",
            "The bonus amount for this person is 375.0\n",
            "The final amount after the transaction fee is 370.0\n",
            "------------------------------------------------------------\n",
            "The salary for this employee is 90000\n",
            "The bonus amount for this person is 2250.0\n",
            "The final amount after the transaction fee is 2245.0\n",
            "------------------------------------------------------------\n"
          ]
        }
      ]
    },
    {
      "cell_type": "code",
      "source": [
        "# Here's a basic example of a `for` loop that iterates over a list of items in a grocery store.\n",
        "produce = [\"apple\",\"banana\",\"strawberry\",\"blueberry\",\"watermelon\"]\n",
        "\n",
        "for item in produce:\n",
        "  print(item)"
      ],
      "metadata": {
        "colab": {
          "base_uri": "https://localhost:8080/"
        },
        "id": "pfCQyw6oiaNz",
        "outputId": "daabcf5e-cd93-4696-b107-9ba6a643e047"
      },
      "execution_count": null,
      "outputs": [
        {
          "output_type": "stream",
          "name": "stdout",
          "text": [
            "apple\n",
            "banana\n",
            "strawberry\n",
            "blueberry\n",
            "watermelon\n"
          ]
        }
      ]
    },
    {
      "cell_type": "markdown",
      "source": [
        "## Combining If Statements with For Loops\n",
        "Combining `if` statements with `for` loops in Python allows you to selectively execute code based on conditions for each item in a loop. This is useful for filtering items, applying specific operations to certain elements, and more.\n",
        "\n",
        "#### When to Use an If Statement in a For Loop?\n",
        "- To perform different actions for different values in a sequence.\n",
        "- To filter out elements that meet specific criteria.\n",
        "- To count or accumulate values conditionally.\n",
        "\n",
        "### Basic Concept and Syntax\n",
        "The general pattern involves setting up a `for` loop to iterate over a collection and then placing an `if` statement inside the loop to test each element.\n",
        "\n",
        "```python\n",
        "for item in iterable:\n",
        "    if condition:\n",
        "        # Code to execute if condition is True\n"
      ],
      "metadata": {
        "id": "9o0AqC-ti4Al"
      }
    },
    {
      "cell_type": "code",
      "source": [
        "# Let's start with a basic example where we print only even numbers from a list.\n",
        "numbers = [1, 2, 3, 4, 5, 6, 7, 8, 9, 10]\n",
        "for x in numbers:\n",
        "    if x % 2 == 0:\n",
        "        print(x)"
      ],
      "metadata": {
        "colab": {
          "base_uri": "https://localhost:8080/"
        },
        "id": "icFyNQNwirKM",
        "outputId": "6bcb6eaf-5a43-477d-df33-19f4c6672392"
      },
      "execution_count": null,
      "outputs": [
        {
          "output_type": "stream",
          "name": "stdout",
          "text": [
            "2\n",
            "4\n",
            "6\n",
            "8\n",
            "10\n"
          ]
        }
      ]
    },
    {
      "cell_type": "markdown",
      "source": [
        "### Filtering Data\n",
        "A common use of combining `if` statements with `for` loops is filtering data, such as extracting specific elements from a list that meet a certain condition.\n",
        "\n",
        "#### Example: Filtering a List\n",
        "Here, we'll create a new list that only includes numbers greater than 5.\n"
      ],
      "metadata": {
        "id": "2ZqJ3dT2jMfE"
      }
    },
    {
      "cell_type": "code",
      "source": [
        "# Example: Filtering a list\n",
        "original_numbers = [2, 5, 12, 13, 17, 4, 18, 23]\n",
        "filtered_numbers = []\n",
        "\n",
        "for number in original_numbers:\n",
        "    if number > 20:\n",
        "        filtered_numbers.append(number)\n",
        "\n",
        "print(\"Filtered numbers:\", filtered_numbers)\n"
      ],
      "metadata": {
        "colab": {
          "base_uri": "https://localhost:8080/"
        },
        "id": "WyaeMAP0jIhm",
        "outputId": "f2e1dc64-38e3-420d-848f-7309ff2db76b"
      },
      "execution_count": null,
      "outputs": [
        {
          "output_type": "stream",
          "name": "stdout",
          "text": [
            "Filtered numbers: [23]\n"
          ]
        }
      ]
    },
    {
      "cell_type": "markdown",
      "source": [
        "### Applying Conditional Logic to Perform Different Actions\n",
        "You can use multiple `if` or `elif` clauses within a loop to perform different actions for different items.\n",
        "\n",
        "#### Example: Different Actions Based on Value\n"
      ],
      "metadata": {
        "id": "q6qTVHrfjVSN"
      }
    },
    {
      "cell_type": "code",
      "source": [
        "# Example: Different actions based on the value\n",
        "ages = [15, 32, 44, 21, 65, 13]\n",
        "\n",
        "for age in ages:\n",
        "    if age < 18:\n",
        "        print(f\"{age} years: Underage\")\n",
        "    elif age < 65:\n",
        "        print(f\"{age} years: Adult\")\n",
        "    else:\n",
        "        print(f\"{age} years: Senior\")\n"
      ],
      "metadata": {
        "colab": {
          "base_uri": "https://localhost:8080/"
        },
        "id": "WfRrOzgIjOr7",
        "outputId": "09b263a2-4c6a-44b8-c1c4-8abe106e7ed2"
      },
      "execution_count": null,
      "outputs": [
        {
          "output_type": "stream",
          "name": "stdout",
          "text": [
            "15 years: Underage\n",
            "32 years: Adult\n",
            "44 years: Adult\n",
            "21 years: Adult\n",
            "65 years: Senior\n",
            "13 years: Underage\n"
          ]
        }
      ]
    },
    {
      "cell_type": "markdown",
      "source": [
        "### Using `range()` Function\n",
        "The `range()` function is often used in `for` loops to generate a sequence of numbers, making it useful for running a loop a specific number of times.\n",
        "\n",
        "#### Syntax of `range()`:\n",
        "- `range(stop)`: Generates numbers from 0 to `stop-1`\n",
        "- `range(start, stop)`: Generates numbers from `start` to `stop-1`\n",
        "- `range(start, stop, step)`: Generates numbers from `start` to `stop-1`, incrementing by `step`\n",
        "\n",
        "#### Examples:\n"
      ],
      "metadata": {
        "id": "A2kxufGojf3N"
      }
    },
    {
      "cell_type": "code",
      "source": [
        "# Example of for loop with range\n",
        "for i in range(5):\n",
        "    print(i)  # Prints numbers from 0 to 4"
      ],
      "metadata": {
        "colab": {
          "base_uri": "https://localhost:8080/"
        },
        "id": "FwK05ZAUjXgA",
        "outputId": "fc8550a1-35da-424f-fe75-bdc676579911"
      },
      "execution_count": null,
      "outputs": [
        {
          "output_type": "stream",
          "name": "stdout",
          "text": [
            "0\n",
            "1\n",
            "2\n",
            "3\n",
            "4\n"
          ]
        }
      ]
    },
    {
      "cell_type": "code",
      "source": [
        "for i in range(25, 50):\n",
        "    print(i)  # Prints numbers from 1 to 5"
      ],
      "metadata": {
        "colab": {
          "base_uri": "https://localhost:8080/"
        },
        "id": "J6_QsceDjkd9",
        "outputId": "41813f26-b3c4-4af8-9a86-85ffb05a8665"
      },
      "execution_count": null,
      "outputs": [
        {
          "output_type": "stream",
          "name": "stdout",
          "text": [
            "25\n",
            "26\n",
            "27\n",
            "28\n",
            "29\n",
            "30\n",
            "31\n",
            "32\n",
            "33\n",
            "34\n",
            "35\n",
            "36\n",
            "37\n",
            "38\n",
            "39\n",
            "40\n",
            "41\n",
            "42\n",
            "43\n",
            "44\n",
            "45\n",
            "46\n",
            "47\n",
            "48\n",
            "49\n"
          ]
        }
      ]
    },
    {
      "cell_type": "code",
      "source": [
        "for i in range(0, 11, 2):\n",
        "    print(i)  # Prints even numbers from 0 to 8"
      ],
      "metadata": {
        "colab": {
          "base_uri": "https://localhost:8080/"
        },
        "id": "bvpZJv86jlwA",
        "outputId": "792a62d9-146b-4f50-a384-909748ae8ee7"
      },
      "execution_count": null,
      "outputs": [
        {
          "output_type": "stream",
          "name": "stdout",
          "text": [
            "0\n",
            "2\n",
            "4\n",
            "6\n",
            "8\n",
            "10\n"
          ]
        }
      ]
    },
    {
      "cell_type": "code",
      "source": [
        "# Iterate over a string\n",
        "word = \"appleskjd[fbhsbegw4b5guw45nwlkn.ksnksdbfgosd'gonsldnv sdkfb ksdfv'alnkjsbdv s, diabetes lzkn;xcvnblns/gmsh d,.fhkn'nasdl'kng;oafbdg;lsdfng./sndf.kb sk sdnfgoaj'prtj3q'j5'9mgapmrgameg;onsdf/g'psj95js/lndfgjsndflnsldfnbslkdfnblsdfbdsdfbsfdb\""
      ],
      "metadata": {
        "id": "kJCJCkv_BAxg"
      },
      "execution_count": null,
      "outputs": []
    },
    {
      "cell_type": "code",
      "source": [
        "x = word.split()"
      ],
      "metadata": {
        "id": "6OFwqlojBQwB"
      },
      "execution_count": null,
      "outputs": []
    },
    {
      "cell_type": "code",
      "source": [
        "print(\"obesity\" in x)"
      ],
      "metadata": {
        "colab": {
          "base_uri": "https://localhost:8080/"
        },
        "id": "-JpGllI2B-ZR",
        "outputId": "45a0d247-a051-4135-bb67-613b13bb501e"
      },
      "execution_count": null,
      "outputs": [
        {
          "output_type": "stream",
          "name": "stdout",
          "text": [
            "False\n"
          ]
        }
      ]
    },
    {
      "cell_type": "code",
      "source": [],
      "metadata": {
        "id": "kv2UgKvsCGPh"
      },
      "execution_count": null,
      "outputs": []
    }
  ]
}