{
  "nbformat": 4,
  "nbformat_minor": 0,
  "metadata": {
    "colab": {
      "provenance": [],
      "include_colab_link": true
    },
    "kernelspec": {
      "name": "python3",
      "display_name": "Python 3"
    },
    "language_info": {
      "name": "python"
    }
  },
  "cells": [
    {
      "cell_type": "markdown",
      "metadata": {
        "id": "view-in-github",
        "colab_type": "text"
      },
      "source": [
        "<a href=\"https://colab.research.google.com/github/MissK143/MissK143.github.io/blob/main/Introduction_to_Python_Functions.ipynb\" target=\"_parent\"><img src=\"https://colab.research.google.com/assets/colab-badge.svg\" alt=\"Open In Colab\"/></a>"
      ]
    },
    {
      "cell_type": "markdown",
      "source": [
        "# Lesson 7: Introduction to Functions\n",
        "\n",
        "## What are Functions?\n",
        "\n",
        "Functions are reusable pieces of code that perform a specific task. They help in breaking down complex problems into smaller, manageable parts. Functions allow you to write code once and reuse it as many times as needed, which promotes code reusability and modularity.\n",
        "\n",
        "### Key Characteristics of Functions:\n",
        "- **Encapsulation**: A function encapsulates a specific task or related tasks.\n",
        "- **Reusability**: Functions can be reused in different parts of a program without rewriting code.\n",
        "- **Modularity**: Functions help in dividing a program into smaller, manageable parts.\n",
        "- **Maintainability**: Functions make it easier to manage and update code.\n",
        "\n",
        "### Example of a Simple Function\n"
      ],
      "metadata": {
        "id": "-5t_no8ch7xM"
      }
    },
    {
      "cell_type": "code",
      "source": [
        "def greet():\n",
        "    print(\"Hello, World!\")\n",
        "\n",
        "greet()"
      ],
      "metadata": {
        "colab": {
          "base_uri": "https://localhost:8080/"
        },
        "id": "8kFVakO7h8SN",
        "outputId": "e662706a-498b-42a5-e68a-98062bca1f73"
      },
      "execution_count": null,
      "outputs": [
        {
          "output_type": "stream",
          "name": "stdout",
          "text": [
            "Hello, World!\n"
          ]
        }
      ]
    },
    {
      "cell_type": "markdown",
      "source": [
        "In this example, greet is a function that prints \"Hello, World!\" when called."
      ],
      "metadata": {
        "id": "372kCqJ0iBpo"
      }
    },
    {
      "cell_type": "markdown",
      "source": [
        "## Importance of Functions\n",
        "\n",
        "Functions play a critical role in programming for several reasons:\n",
        "\n",
        "1. **Code Reusability**: Functions allow you to use the same piece of code multiple times, reducing redundancy.\n",
        "2. **Modular Code**: Breaking down code into functions makes it easier to read, understand, and debug.\n",
        "3. **Improved Collaboration**: Functions make it easier for multiple people to work on different parts of a project simultaneously.\n",
        "4. **Easier Maintenance**: Functions simplify the process of updating and maintaining code.\n",
        "5. **Abstraction**: Functions allow you to abstract complex operations, making your code cleaner and easier to understand."
      ],
      "metadata": {
        "id": "YxKEA1ToiEH0"
      }
    },
    {
      "cell_type": "markdown",
      "source": [
        "## Built-in vs. User-Defined Functions\n",
        "\n",
        "### Built-in Functions\n",
        "\n",
        "Python comes with a set of built-in functions that are readily available for use. These functions perform a wide range of tasks, from basic input/output operations to complex mathematical calculations.\n",
        "\n",
        "#### Examples of Built-in Functions"
      ],
      "metadata": {
        "id": "NvYYBXj_iV9N"
      }
    },
    {
      "cell_type": "code",
      "source": [
        "# Using the built-in `print` function\n",
        "print(\"Hello, Python!\")"
      ],
      "metadata": {
        "colab": {
          "base_uri": "https://localhost:8080/"
        },
        "id": "3T95Yvf1iRjt",
        "outputId": "7681c72b-9d52-4cfa-9fb6-afa347dc4854"
      },
      "execution_count": null,
      "outputs": [
        {
          "output_type": "stream",
          "name": "stdout",
          "text": [
            "Hello, Python!\n"
          ]
        }
      ]
    },
    {
      "cell_type": "code",
      "source": [
        "# Using the built-in `len` function to get the length of a list\n",
        "my_list = [1, 2, 3, 4, 5]\n",
        "print(\"Length of my_list:\", len(my_list))"
      ],
      "metadata": {
        "id": "Awgce1xfjWNe",
        "colab": {
          "base_uri": "https://localhost:8080/"
        },
        "outputId": "41d3a18b-6587-4844-ddb7-9b51d82bf706"
      },
      "execution_count": null,
      "outputs": [
        {
          "output_type": "stream",
          "name": "stdout",
          "text": [
            "Length of my_list: 5\n"
          ]
        }
      ]
    },
    {
      "cell_type": "code",
      "source": [
        "# Using the built-in `sum` function to calculate the sum of elements in a list\n",
        "print(\"Sum of elements in my_list:\", sum(my_list))"
      ],
      "metadata": {
        "colab": {
          "base_uri": "https://localhost:8080/"
        },
        "id": "2MHTEkPuiaJh",
        "outputId": "52133058-1db9-4b3b-e20c-c7a2c9c0a406"
      },
      "execution_count": null,
      "outputs": [
        {
          "output_type": "stream",
          "name": "stdout",
          "text": [
            "Sum of elements in my_list: 15\n"
          ]
        }
      ]
    },
    {
      "cell_type": "markdown",
      "source": [
        "## User-Defined Functions\n",
        "\n",
        "In addition to built-in functions, you can create your own functions tailored to specific needs. These are known as user-defined functions.\n",
        "\n",
        "### Creating a User-Defined Function\n",
        "To define a function, use the `def` keyword followed by the function name and parentheses `()`.\n",
        "\n",
        "**The `def` keyword**\n",
        "\n",
        "In Python, we use the `def` keyword to define a function.\n",
        "\n",
        "#### Syntax of function definition\n",
        "```python\n",
        "def function_name(parameters):\n",
        "    \"\"\"docstring\"\"\"\n",
        "    statement(s)\n",
        "```\n",
        "- `function_name`: The name of the function.\n",
        "- `parameters`: A comma-separated list of parameters (arguments) that the function accepts. This can be empty.\n",
        "- `docstring`: A string that describes what the function does. It is optional but highly recommended.\n",
        "- `statement(s)`: The block of code that the function executes.\n",
        "\n",
        "### Function naming conventions\n",
        "- Use lowercase words separated by underscores (e.g., `calculate_area`).\n",
        "- The name should be descriptive and indicate what the function does.\n",
        "- Avoid using Python reserved keywords as function names.\n",
        "\n",
        "\n"
      ],
      "metadata": {
        "id": "FdQU5i9YifNU"
      }
    },
    {
      "cell_type": "markdown",
      "source": [
        "### Example of a User-Defined Function"
      ],
      "metadata": {
        "id": "RGAX5KCji0Ru"
      }
    },
    {
      "cell_type": "code",
      "source": [
        "def multiply(a, b):\n",
        "    return a * b"
      ],
      "metadata": {
        "id": "_VJEgcxVibpe"
      },
      "execution_count": null,
      "outputs": []
    },
    {
      "cell_type": "code",
      "source": [
        "multiply(500,1000)"
      ],
      "metadata": {
        "colab": {
          "base_uri": "https://localhost:8080/"
        },
        "id": "3cU2kTuKrfZy",
        "outputId": "2f81b4a9-97e7-46ff-fcba-940f06364938"
      },
      "execution_count": null,
      "outputs": [
        {
          "output_type": "execute_result",
          "data": {
            "text/plain": [
              "12"
            ]
          },
          "metadata": {},
          "execution_count": 26
        }
      ]
    },
    {
      "cell_type": "markdown",
      "source": [
        "In this example, `multiply` is a user-defined function that takes two parameters and returns their product."
      ],
      "metadata": {
        "id": "jIhs4cHQi87V"
      }
    },
    {
      "cell_type": "markdown",
      "source": [
        "### Parameters and Arguments\n",
        "\n",
        "Functions can accept inputs called parameters and return outputs using the `return` statement.\n",
        "\n",
        "#### Example with Parameters and Arguments"
      ],
      "metadata": {
        "id": "fjhDTQ8Ai--t"
      }
    },
    {
      "cell_type": "code",
      "source": [
        "def greet_person(name):\n",
        "    print(f\"Hello, {name}!\")\n",
        "\n",
        "greet_person(\"Alice\")"
      ],
      "metadata": {
        "colab": {
          "base_uri": "https://localhost:8080/"
        },
        "id": "gDbsCntpi2vo",
        "outputId": "a3a7833b-22a5-4101-ce58-c1cb6d8de46f"
      },
      "execution_count": null,
      "outputs": [
        {
          "output_type": "stream",
          "name": "stdout",
          "text": [
            "Hello, Alice!\n"
          ]
        }
      ]
    },
    {
      "cell_type": "code",
      "source": [
        "greet_person(\"Bob\")"
      ],
      "metadata": {
        "colab": {
          "base_uri": "https://localhost:8080/"
        },
        "id": "2ebsRNo8jBLQ",
        "outputId": "9cd69eb7-7baf-422a-e24b-c115096bb0d9"
      },
      "execution_count": null,
      "outputs": [
        {
          "output_type": "stream",
          "name": "stdout",
          "text": [
            "Hello, Bob!\n"
          ]
        }
      ]
    },
    {
      "cell_type": "markdown",
      "source": [
        "In this example, name is a parameter, and \"Alice\" and \"Bob\" are arguments passed to the greet_person function."
      ],
      "metadata": {
        "id": "tsnfB2LgjFb-"
      }
    },
    {
      "cell_type": "markdown",
      "source": [
        "### Positional vs. keyword arguments\n",
        "- **Positional arguments**: These are the most common type and are passed to the function in the order they are defined.\n",
        "- **Keyword arguments**: These are passed by explicitly naming each parameter and assigning it a value."
      ],
      "metadata": {
        "id": "LkDN9evjlAFl"
      }
    },
    {
      "cell_type": "code",
      "source": [
        "def display_info(name, age):\n",
        "    \"\"\"Displays name and age\"\"\"\n",
        "    print(f\"Name: {name}, Age: {age}\")"
      ],
      "metadata": {
        "id": "XILA6r6GlEEF"
      },
      "execution_count": null,
      "outputs": []
    },
    {
      "cell_type": "code",
      "source": [
        "# Positional arguments\n",
        "display_info(\"Alice\", 30)"
      ],
      "metadata": {
        "colab": {
          "base_uri": "https://localhost:8080/"
        },
        "id": "sBfo840olHjl",
        "outputId": "90d4b107-abde-43ac-fe9f-062945b83a30"
      },
      "execution_count": null,
      "outputs": [
        {
          "output_type": "stream",
          "name": "stdout",
          "text": [
            "Name: 30, Age: Alice\n"
          ]
        }
      ]
    },
    {
      "cell_type": "code",
      "source": [
        "# Keyword arguments\n",
        "display_info(age=30, name=\"Alice\")"
      ],
      "metadata": {
        "colab": {
          "base_uri": "https://localhost:8080/"
        },
        "id": "Qmll87ZslJYO",
        "outputId": "ab27958f-e520-4b02-9244-730bb91c12f2"
      },
      "execution_count": null,
      "outputs": [
        {
          "output_type": "stream",
          "name": "stdout",
          "text": [
            "Name: Alice, Age: 30\n"
          ]
        }
      ]
    },
    {
      "cell_type": "markdown",
      "source": [
        "### Default parameters\n",
        "You can provide default values for parameters. If no argument is passed for that parameter, the default value is used."
      ],
      "metadata": {
        "id": "UW90A8aymlhV"
      }
    },
    {
      "cell_type": "code",
      "source": [
        "def greet(name=\"Guest\"):\n",
        "    \"\"\"Prints a greeting message with a default name\"\"\"\n",
        "    print(f\"Hello, {name}!\")"
      ],
      "metadata": {
        "id": "EDcRrJzMmnvq"
      },
      "execution_count": null,
      "outputs": []
    },
    {
      "cell_type": "code",
      "source": [
        "greet()  # Output: Hello, Guest!"
      ],
      "metadata": {
        "id": "f9qIFMdPmo0m",
        "colab": {
          "base_uri": "https://localhost:8080/"
        },
        "outputId": "2e14e76f-7b11-4371-ac6a-ff80d6d5e816"
      },
      "execution_count": null,
      "outputs": [
        {
          "output_type": "stream",
          "name": "stdout",
          "text": [
            "Hello, Guest!\n"
          ]
        }
      ]
    },
    {
      "cell_type": "markdown",
      "source": [
        "### Variable-length arguments (`*args` and `**kwargs`)\n",
        "- **`args`**: Allows a function to accept any number of positional arguments.\n",
        "- **kwargs**: Allows a function to accept any number of keyword arguments."
      ],
      "metadata": {
        "id": "Ubv5pFeymr11"
      }
    },
    {
      "cell_type": "code",
      "source": [
        "def print_numbers(*args):\n",
        "    \"\"\"Prints all the numbers passed as arguments\"\"\"\n",
        "    for num in args:\n",
        "        print(num)"
      ],
      "metadata": {
        "id": "dX1qTVRemuGf"
      },
      "execution_count": null,
      "outputs": []
    },
    {
      "cell_type": "code",
      "source": [
        "print_numbers(1, 2, 3, 4, 5)"
      ],
      "metadata": {
        "id": "W5YT1GqYnctN",
        "colab": {
          "base_uri": "https://localhost:8080/"
        },
        "outputId": "1e979f3a-0425-44dd-b127-2d749522336d"
      },
      "execution_count": null,
      "outputs": [
        {
          "output_type": "stream",
          "name": "stdout",
          "text": [
            "1\n",
            "2\n",
            "3\n",
            "4\n",
            "5\n"
          ]
        }
      ]
    },
    {
      "cell_type": "code",
      "source": [
        "def print_details(**kwargs):\n",
        "    \"\"\"Prints details provided as keyword arguments\"\"\"\n",
        "    for key, value in kwargs.items():\n",
        "        print(f\"{key}: {value}\")\n",
        "\n",
        "print_details(name=\"Alice\", age=30, city=\"New York\")"
      ],
      "metadata": {
        "id": "OVGzY6z1nDat"
      },
      "execution_count": null,
      "outputs": []
    },
    {
      "cell_type": "code",
      "source": [
        "print_details(name=\"Alice\", age=30, city=\"New York\")"
      ],
      "metadata": {
        "id": "CI5dmfpJndJu"
      },
      "execution_count": null,
      "outputs": []
    },
    {
      "cell_type": "markdown",
      "source": [
        "### Return Statement\n",
        "\n",
        "The `return` statement is used to return a value from a function. If no `return` statement is used, the function returns `None` by default.\n",
        "\n",
        "#### Example with Return Statement"
      ],
      "metadata": {
        "id": "38JygcJ9jIUd"
      }
    },
    {
      "cell_type": "code",
      "source": [
        "def square(number):\n",
        "    return number ** 2\n",
        "\n",
        "result = square(6)\n",
        "print(\"Square of 6 is:\", result)\n"
      ],
      "metadata": {
        "colab": {
          "base_uri": "https://localhost:8080/"
        },
        "id": "gGO8K_aqjEPg",
        "outputId": "2b29e538-06d4-4dc7-c35c-a79a2116a127"
      },
      "execution_count": null,
      "outputs": [
        {
          "output_type": "stream",
          "name": "stdout",
          "text": [
            "Square of 6 is: 36\n"
          ]
        }
      ]
    },
    {
      "cell_type": "markdown",
      "source": [
        "In this example, the square function returns the square of the input number."
      ],
      "metadata": {
        "id": "oHIaO3TxjK8d"
      }
    },
    {
      "cell_type": "markdown",
      "source": [
        "### Returning multiple values\n",
        "You can return multiple values from a function using tuples."
      ],
      "metadata": {
        "id": "3y5ALxOpn2a9"
      }
    },
    {
      "cell_type": "code",
      "source": [
        "def get_full_name(first_name, last_name):\n",
        "    \"\"\"Returns the full name as a tuple\"\"\"\n",
        "    full_name = first_name + \" \" + last_name\n",
        "    return first_name, last_name, full_name"
      ],
      "metadata": {
        "id": "Yb7mAhNzjLv_"
      },
      "execution_count": null,
      "outputs": []
    },
    {
      "cell_type": "code",
      "source": [
        "first, last, full = get_full_name(\"John\", \"Doe\")\n",
        "print(full)"
      ],
      "metadata": {
        "colab": {
          "base_uri": "https://localhost:8080/"
        },
        "id": "g0M1o6b6n44b",
        "outputId": "84a5052f-a3e5-42cc-88f9-967a00895737"
      },
      "execution_count": null,
      "outputs": [
        {
          "output_type": "stream",
          "name": "stdout",
          "text": [
            "John Doe\n"
          ]
        }
      ]
    },
    {
      "cell_type": "markdown",
      "source": [
        "## Scope and Lifetime of Variables\n",
        "\n",
        "### Local and global scope\n",
        "- **Local scope**: Variables defined inside a function are local to that function and cannot be accessed outside.\n",
        "- **Global scope**: Variables defined outside any function are global and can be accessed from anywhere in the program."
      ],
      "metadata": {
        "id": "VknsmDEzoHNW"
      }
    },
    {
      "cell_type": "code",
      "source": [
        "global_var = \"I am global\"\n",
        "\n",
        "def my_function():\n",
        "    local_var = \"I am local\"\n",
        "    print(global_var)  # Accessible\n",
        "    print(local_var)   # Accessible\n",
        "\n",
        "my_function()"
      ],
      "metadata": {
        "colab": {
          "base_uri": "https://localhost:8080/"
        },
        "id": "-vnl1WILn8RN",
        "outputId": "920dd2d5-a018-4ef9-998e-ed09e628af25"
      },
      "execution_count": null,
      "outputs": [
        {
          "output_type": "stream",
          "name": "stdout",
          "text": [
            "I am global\n",
            "I am local\n"
          ]
        }
      ]
    },
    {
      "cell_type": "code",
      "source": [
        "print(global_var)  # Accessible\n",
        "#print(local_var)  # Error: NameError"
      ],
      "metadata": {
        "colab": {
          "base_uri": "https://localhost:8080/"
        },
        "id": "GtSjnIRTyvqx",
        "outputId": "e46cf779-cd6c-4959-c86e-96397eb1affb"
      },
      "execution_count": null,
      "outputs": [
        {
          "output_type": "stream",
          "name": "stdout",
          "text": [
            "I am global\n"
          ]
        }
      ]
    },
    {
      "cell_type": "code",
      "source": [],
      "metadata": {
        "id": "ouOOi9snyz1R"
      },
      "execution_count": null,
      "outputs": []
    }
  ]
}