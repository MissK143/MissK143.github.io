{
  "nbformat": 4,
  "nbformat_minor": 0,
  "metadata": {
    "colab": {
      "provenance": [],
      "include_colab_link": true
    },
    "kernelspec": {
      "name": "python3",
      "display_name": "Python 3"
    },
    "language_info": {
      "name": "python"
    }
  },
  "cells": [
    {
      "cell_type": "markdown",
      "metadata": {
        "id": "view-in-github",
        "colab_type": "text"
      },
      "source": [
        "<a href=\"https://colab.research.google.com/github/MissK143/MissK143.github.io/blob/main/Introduction_to_Python_Data_Structures.ipynb\" target=\"_parent\"><img src=\"https://colab.research.google.com/assets/colab-badge.svg\" alt=\"Open In Colab\"/></a>"
      ]
    },
    {
      "cell_type": "markdown",
      "source": [
        "# Lesson 4: Data Structures in Python\n",
        "\n",
        "Data structures are fundamental concepts of computer science that organize and store data efficiently. Python provides several built-in data structures that are powerful yet simple to use. In this lesson, we will explore lists, sets, tuples, and dictionaries, understanding their unique characteristics and when to use each.\n"
      ],
      "metadata": {
        "id": "CaukGDW9xuol"
      }
    },
    {
      "cell_type": "markdown",
      "source": [
        "## Part 1: Introduction to Lists\n",
        "\n",
        "Lists are one of the most versatile and commonly used data structures in Python, primarily because they allow you to organize and store sequences of items in a specific order. They are mutable, which means you can modify them after their creation by adding, removing, or changing elements. This makes lists incredibly useful for a wide range of tasks in programming, from simple data collection to complex algorithms. Here’s an in-depth exploration of lists in Python, focusing on their properties, operations, and typical uses.\n",
        "\n",
        "### What is a List?\n",
        "\n",
        "A list in Python is an ordered sequence of items. It can contain elements of different types, including other lists, which makes it a powerful tool for constructing complex data structures. The items in a list are indexed by integers, starting with zero for the first element. This index system allows for fast retrieval of elements based on their position.\n",
        "\n",
        "### Key Properties of Lists\n",
        "\n",
        "1. **Ordered**: The elements in a list maintain their order unless explicitly modified. The order affects how elements are accessed, added, or removed.\n",
        "\n",
        "2. **Mutable**: You can modify lists after they are created. This includes changing elements, adding new elements, and removing existing elements.\n",
        "\n",
        "3. **Indexable**: Each element in a list can be accessed using an index. Python also supports negative indexing, where -1 refers to the last item, -2 to the second last, and so on.\n",
        "\n",
        "4. **Dynamic Sizing**: Lists can grow or shrink on demand. Adding elements to a list or removing them doesn't require the creation of a new list, which makes dynamic data storage efficient and straightforward.\n",
        "\n",
        "### Common Operations on Lists\n",
        "\n",
        "- **Adding Elements**: You can add elements to a list using methods like `append()` (which adds to the end of the list) and `insert()` (which allows you to insert a new item at any position in the list).\n",
        "\n",
        "- **Removing Elements**: Elements can be removed by value with `remove()`, by index with `pop()`, or clear the entire list with `clear()`.\n",
        "\n",
        "- **Slicing**: Lists can be sliced, which means creating a new list that includes a subset of the original list’s elements. Slicing is done by specifying start and stop indices along with an optional step.\n",
        "\n",
        "- **Iterating**: Lists can be iterated over in a loop, which means executing a block of code for each element in the list.\n",
        "\n",
        "- **Sorting and Reversing**: Lists can be sorted in place with `sort()`, and reversed with `reverse()`. These operations modify the list directly.\n",
        "\n",
        "### Typical Uses of Lists\n",
        "\n",
        "- **Storing Collections of Items**: Lists are ideal for storing an ordered set of items. This could be anything from a collection of names in a classroom, to a sequence of steps in a process.\n",
        "\n",
        "- **Stack or Queue Implementations**: While Python offers other data structures like `deque` for these purposes, lists are often used to implement simple stacks or queues. Stacks follow Last In First Out (LIFO), while queues use First In First Out (FIFO).\n",
        "\n",
        "- **Matrix or Grid Representations**: Lists can be nested, meaning that each element in a list can itself be another list. This is particularly useful for creating matrices or grids, which are essential in various applications like image processing or board games.\n",
        "\n",
        "- **Data Processing**: Lists are often used in data processing tasks. For instance, they can store datasets retrieved from files or databases, and provide powerful ways to manipulate this data through sorting, filtering, and aggregation.\n",
        "\n"
      ],
      "metadata": {
        "id": "S_ExyIZ8xwCF"
      }
    },
    {
      "cell_type": "code",
      "source": [
        "# Example of creating a list\n",
        "my_list = [1, 2, 3, 4, 5]\n",
        "print(\"Initial List:\", my_list)\n"
      ],
      "metadata": {
        "id": "7gmV5Vyjy2ve"
      },
      "execution_count": null,
      "outputs": []
    },
    {
      "cell_type": "code",
      "source": [
        "# Example of creating a list\n",
        "fruits = [\"apple\", \"banana\", \"cherry\"]\n",
        "print(\"Fruits List:\", fruits)\n"
      ],
      "metadata": {
        "id": "bzJiItJexwp1"
      },
      "execution_count": null,
      "outputs": []
    },
    {
      "cell_type": "markdown",
      "source": [
        "### 1.2 Accessing List Items\n",
        "List items are indexed, the first item has index [0], the second item has index [1] etc.\n"
      ],
      "metadata": {
        "id": "P7mfIqPpxxp9"
      }
    },
    {
      "cell_type": "code",
      "source": [
        "# Accessing list items\n",
        "print(\"First Fruit:\", fruits[0])"
      ],
      "metadata": {
        "id": "Qgjj6IDJxyjG"
      },
      "execution_count": null,
      "outputs": []
    },
    {
      "cell_type": "markdown",
      "source": [
        "### 1.3 Adding and Removing Items\n",
        "Lists are mutable, meaning you can change their items. You can add items using `append()` or `insert()`, and remove items using `remove()` or `pop()`.\n"
      ],
      "metadata": {
        "id": "e29ySJbxxzql"
      }
    },
    {
      "cell_type": "code",
      "source": [
        "# Adding and removing items\n",
        "fruits.append(\"orange\")\n",
        "print(\"Added Orange:\", fruits)\n",
        "fruits.pop()\n",
        "print(\"Removed Last Item:\", fruits)\n"
      ],
      "metadata": {
        "id": "ihajkECYx0id"
      },
      "execution_count": null,
      "outputs": []
    },
    {
      "cell_type": "markdown",
      "source": [
        "### 1.4 List Operations\n",
        "Lists support operations like concatenation, repetition, and even slicing.\n"
      ],
      "metadata": {
        "id": "wSyt67esx1kN"
      }
    },
    {
      "cell_type": "code",
      "source": [
        "# List operations\n",
        "new_fruits = [\"mango\", \"pineapple\"]\n",
        "all_fruits = fruits + new_fruits\n",
        "print(\"All Fruits:\", all_fruits)\n",
        "\n",
        "# Slicing lists\n",
        "print(\"First Two Fruits:\", all_fruits[:2])\n"
      ],
      "metadata": {
        "id": "-FrAH8-7x2Mn"
      },
      "execution_count": null,
      "outputs": []
    },
    {
      "cell_type": "markdown",
      "source": [
        "### 1.5 Slicing Lists\n",
        "Slicing allows you to create a new list from a subset of your existing list.\n"
      ],
      "metadata": {
        "id": "QWsSEP5tzM0F"
      }
    },
    {
      "cell_type": "code",
      "source": [
        "# Slicing a list\n",
        "slice_of_list = my_list[1:4]  # Gets elements from index 1 to 3\n",
        "print(\"Slice of List:\", slice_of_list)\n"
      ],
      "metadata": {
        "id": "bblk5cSEzPgF"
      },
      "execution_count": null,
      "outputs": []
    },
    {
      "cell_type": "markdown",
      "source": [
        "### 1.6 Modifying Lists\n",
        "Lists are mutable, which means you can change an element by accessing it directly.\n"
      ],
      "metadata": {
        "id": "apeYwsZxzUxO"
      }
    },
    {
      "cell_type": "code",
      "source": [
        "# Modifying an element\n",
        "my_list[0] = 100\n",
        "print(\"Modified List:\", my_list)\n"
      ],
      "metadata": {
        "id": "gVt3HCRazWTt"
      },
      "execution_count": null,
      "outputs": []
    },
    {
      "cell_type": "markdown",
      "source": [
        "## Part 2: Sets\n",
        "\n",
        "Sets are a fundamental data structure in Python, often used when you need to handle collections of unique elements. They are particularly valuable because they provide efficient ways to perform common set operations like unions, intersections, and differences. Here's an overview of sets in Python, focusing on their properties and typical uses, without diving into actual code.\n",
        "\n",
        "### What is a Set?\n",
        "\n",
        "A set in Python is an unordered collection of distinct, immutable objects. Since sets are unordered, the items in a set do not have a fixed position; they are stored in a manner that allows for fast checks of membership, meaning you can quickly determine whether an item is part of the set. Unlike lists or tuples, sets do not allow duplicate elements, making them ideal for collecting unique items.\n",
        "\n",
        "### Key Properties of Sets\n",
        "\n",
        "1. **Uniqueness**: Sets automatically remove any duplicate entries. If you try to add the same item twice, the set will only contain one instance of that item.\n",
        "   \n",
        "2. **Immutability of Elements**: The elements contained in a set must be immutable. This means you can include items like numbers, strings, and tuples, but not lists, dictionaries, or other sets.\n",
        "\n",
        "3. **Efficiency**: Python sets are implemented using hash tables. This means that adding elements to a set, checking for membership, and removing elements are all operations that can be done in constant time on average.\n",
        "\n",
        "4. **No Order**: There is no concept of \"first\" or \"last\" in a set. When you iterate over a set, the order in which you retrieve the items is arbitrary and can change.\n",
        "\n",
        "### Common Uses of Sets\n",
        "\n",
        "- **Removing Duplicates**: Since sets do not allow duplicates, they are naturally used to eliminate repeated elements from a collection.\n",
        "  \n",
        "- **Membership Tests**: If you need to check whether an item exists in a collection, a set is often the fastest way to do this because sets are optimized for fast membership testing.\n",
        "\n",
        "- **Mathematical Operations**: Sets support mathematical operations like union, intersection, difference, and symmetric difference. These operations allow you to combine sets in various ways to create new sets. For example:\n",
        "  - **Union** gives you a set containing all the elements from both sets.\n",
        "  - **Intersection** gives you a set containing only the elements that are common to both sets.\n",
        "  - **Difference** gives you a set containing elements that are in one set but not in the other.\n",
        "  - **Symmetric Difference** gives you a set with elements that are in either of the sets but not in their intersection.\n",
        "\n",
        "### When to Use Sets\n",
        "\n",
        "Sets are particularly useful when dealing with large datasets where you need to enforce uniqueness or when you frequently need to check if items are part of the dataset. They are also invaluable when you need to perform operations that involve combining or comparing groups of items, such as finding common or distinct items between different collections.\n",
        "\n",
        "### 2.1 Creating Sets\n",
        "Sets are written with curly brackets `{}`.\n"
      ],
      "metadata": {
        "id": "NmlfeEWix4Vd"
      }
    },
    {
      "cell_type": "code",
      "source": [
        "# Revisit the idea of creating a list\n",
        "colors_list = [\"red\", \"green\", \"blue\"] # Using square brackets\n",
        "print(\"list of colors\", colors_list)"
      ],
      "metadata": {
        "colab": {
          "base_uri": "https://localhost:8080/"
        },
        "id": "rGM2E3-i3Ey8",
        "outputId": "538badcf-de16-4905-a05d-ce5bfaf50022"
      },
      "execution_count": null,
      "outputs": [
        {
          "output_type": "stream",
          "name": "stdout",
          "text": [
            "list of colors ['red', 'green', 'blue']\n"
          ]
        }
      ]
    },
    {
      "cell_type": "code",
      "source": [
        "# Example of creating a set\n",
        "colors = {\"red\", \"green\", \"blue\"} # The use of the curly brackets\n",
        "print(\"Colors Set:\", colors)\n"
      ],
      "metadata": {
        "id": "qcuQFU-cx5gW",
        "colab": {
          "base_uri": "https://localhost:8080/"
        },
        "outputId": "4cb53121-7adb-472e-f540-422ddf212f1d"
      },
      "execution_count": null,
      "outputs": [
        {
          "output_type": "stream",
          "name": "stdout",
          "text": [
            "Colors Set: {'red', 'green', 'blue'}\n"
          ]
        }
      ]
    },
    {
      "cell_type": "code",
      "source": [
        "numbers = {1,2,2,3,3,4,4,5,5,6,7}\n",
        "print(\"Numbers Set :\", numbers)"
      ],
      "metadata": {
        "colab": {
          "base_uri": "https://localhost:8080/"
        },
        "id": "ZuS9FuXS2BEr",
        "outputId": "398aec7f-e0bd-4a8d-e031-f754fe5ef7a9"
      },
      "execution_count": null,
      "outputs": [
        {
          "output_type": "stream",
          "name": "stdout",
          "text": [
            "Numbers Set : {1, 2, 3, 4, 5, 6, 7}\n"
          ]
        }
      ]
    },
    {
      "cell_type": "markdown",
      "source": [
        "### 2.2 Adding and Removing Items\n",
        "You can add items to sets using the `add()` method, and remove items using `remove()` or `discard()`.\n"
      ],
      "metadata": {
        "id": "so9RCnjEx7Ct"
      }
    },
    {
      "cell_type": "code",
      "source": [
        "# Modifying sets\n",
        "colors.add(\"yellow\")\n",
        "print(\"Added Yellow:\", colors)\n",
        "colors.discard(\"green\")\n",
        "print(\"Removed Green:\", colors)\n"
      ],
      "metadata": {
        "id": "0KQsDIN1x71N",
        "colab": {
          "base_uri": "https://localhost:8080/"
        },
        "outputId": "645eae55-ad3d-4a5e-8455-d57528ea1f7d"
      },
      "execution_count": null,
      "outputs": [
        {
          "output_type": "stream",
          "name": "stdout",
          "text": [
            "Added Yellow: {'red', 'green', 'yellow', 'blue'}\n",
            "Removed Green: {'red', 'yellow', 'blue'}\n"
          ]
        }
      ]
    },
    {
      "cell_type": "markdown",
      "source": [
        "### 2.3 Set Operations\n",
        "Sets support mathematical operations like union, intersection, and difference.\n"
      ],
      "metadata": {
        "id": "2INTUD_ax8dF"
      }
    },
    {
      "cell_type": "code",
      "source": [
        "# Set operations\n",
        "primary_colors = {\"red\", \"blue\", \"yellow\", \"green\"}\n",
        "secondary_colors = {\"green\", \"orange\", \"purple\"}\n",
        "print(\"Union:\", primary_colors | secondary_colors)\n"
      ],
      "metadata": {
        "id": "r2CALoEfx9FX",
        "colab": {
          "base_uri": "https://localhost:8080/"
        },
        "outputId": "ffc97305-dd15-4b33-b36c-294fc6d0fcce"
      },
      "execution_count": null,
      "outputs": [
        {
          "output_type": "stream",
          "name": "stdout",
          "text": [
            "Union: {'purple', 'green', 'orange', 'red', 'yellow', 'blue'}\n"
          ]
        }
      ]
    },
    {
      "cell_type": "code",
      "source": [
        "print(\"Intersection:\", primary_colors & secondary_colors)"
      ],
      "metadata": {
        "colab": {
          "base_uri": "https://localhost:8080/"
        },
        "id": "wrnmre5K2Feb",
        "outputId": "cabb6535-d582-480c-da64-227adeb090a7"
      },
      "execution_count": null,
      "outputs": [
        {
          "output_type": "stream",
          "name": "stdout",
          "text": [
            "Intersection: {'green'}\n"
          ]
        }
      ]
    },
    {
      "cell_type": "markdown",
      "source": [
        "## Part 3: Tuples\n",
        "\n",
        "Tuples are a basic but powerful data type in Python, essential for situations where an immutable sequence of items is needed. Unlike lists, tuples cannot be changed once they are created. This immutability makes tuples faster than lists and suitable for use as fixed data records or as keys in dictionaries where mutable types cannot be used. Let's delve into the details of tuples in Python, exploring their properties, typical uses, and operations, without using specific code examples.\n",
        "\n",
        "### What is a Tuple?\n",
        "\n",
        "A tuple in Python is a collection of objects which is ordered and immutable. Tuples are similar to lists in terms of indexing, nested objects, and repetition but differ in that they cannot be changed once created. They are defined by enclosing the elements in parentheses `( )`, although parentheses are optional.\n",
        "\n",
        "### Key Properties of Tuples\n",
        "\n",
        "1. **Immutability**: Once a tuple is created, it cannot be modified. This means you cannot add, delete, or change elements after the tuple is defined. This property is what distinguishes tuples from lists.\n",
        "\n",
        "2. **Ordered**: The elements in a tuple have a defined order, the same as they were entered.\n",
        "\n",
        "3. **Indexable**: Tuples can be accessed via indices, just like lists. The first element has an index of 0, the second element an index of 1, and so on.\n",
        "\n",
        "4. **Hashable**: Because they are immutable, tuples that contain only immutable elements can be used as keys in dictionaries and as elements of sets, which is not possible with lists.\n",
        "\n",
        "### Common Operations on Tuples\n",
        "\n",
        "- **Indexing and Slicing**: Like lists, you can access individual elements or ranges of elements in a tuple using indexing and slicing.\n",
        "\n",
        "- **Concatenation and Repetition**: Tuples can be concatenated using the `+` operator to join them together, and repeated using the `*` operator, which repeats the tuple a specified number of times.\n",
        "\n",
        "- **Counting and Index Finding**: Tuples have built-in methods like `.count()` and `.index()` which are used to count occurrences of a value and find the index of a value, respectively.\n",
        "\n",
        "- **Unpacking**: A powerful feature of tuples is the ability to \"unpack\" the contents into several variables at once, according to the order of elements in the tuple.\n",
        "\n",
        "### Typical Uses of Tuples\n",
        "\n",
        "- **Fixed Data Records**: Tuples are perfect for storing records where each item in the tuple can represent a different attribute of the record. For instance, an employee record might be represented as a tuple containing a name, ID, and email address.\n",
        "\n",
        "- **Function Arguments and Return Values**: Tuples are often used to pass a fixed set of arguments to functions or return multiple values from functions. This allows functions to easily provide more than one output.\n",
        "\n",
        "- **Protecting Data Integrity**: Given their immutability, tuples help in ensuring that data remains unchanged, thus can be safely passed around between functions without risk of modification.\n",
        "\n",
        "- **Using as Dictionary Keys**: As tuples are hashable and immutable, they can be used as keys in dictionaries, unlike lists. This is useful in situations where you need to map pairs of values to data, like coordinates `(x, y)` to geographic data.\n",
        "\n",
        "\n",
        "### 3.1 Creating Tuples\n",
        "Tuples are defined by enclosing the elements in parentheses `()`.\n"
      ],
      "metadata": {
        "id": "ncLZ7Q5Kx-Jd"
      }
    },
    {
      "cell_type": "code",
      "source": [
        "# Example of creating a tuple\n",
        "dimensions = (20, 50, 30) # Tuples uses parenthesis\n",
        "print(\"Dimensions Tuple:\", dimensions)\n"
      ],
      "metadata": {
        "id": "pI2ZCIGAx-_F",
        "colab": {
          "base_uri": "https://localhost:8080/"
        },
        "outputId": "ab2dc2ef-45e0-43d9-b733-8d6c38eadc6e"
      },
      "execution_count": null,
      "outputs": [
        {
          "output_type": "stream",
          "name": "stdout",
          "text": [
            "Dimensions Tuple: (20, 50, 30)\n"
          ]
        }
      ]
    },
    {
      "cell_type": "code",
      "source": [
        "dimensions.remove(30)"
      ],
      "metadata": {
        "colab": {
          "base_uri": "https://localhost:8080/",
          "height": 141
        },
        "id": "Shyi9iIT2nXz",
        "outputId": "c36e3b1c-378a-4144-a288-881d2fac8c15"
      },
      "execution_count": null,
      "outputs": [
        {
          "output_type": "error",
          "ename": "AttributeError",
          "evalue": "'tuple' object has no attribute 'remove'",
          "traceback": [
            "\u001b[0;31m---------------------------------------------------------------------------\u001b[0m",
            "\u001b[0;31mAttributeError\u001b[0m                            Traceback (most recent call last)",
            "\u001b[0;32m<ipython-input-30-d81ead4f97a6>\u001b[0m in \u001b[0;36m<cell line: 1>\u001b[0;34m()\u001b[0m\n\u001b[0;32m----> 1\u001b[0;31m \u001b[0mdimensions\u001b[0m\u001b[0;34m.\u001b[0m\u001b[0mremove\u001b[0m\u001b[0;34m(\u001b[0m\u001b[0;36m30\u001b[0m\u001b[0;34m)\u001b[0m\u001b[0;34m\u001b[0m\u001b[0;34m\u001b[0m\u001b[0m\n\u001b[0m",
            "\u001b[0;31mAttributeError\u001b[0m: 'tuple' object has no attribute 'remove'"
          ]
        }
      ]
    },
    {
      "cell_type": "markdown",
      "source": [
        "### 3.2 Accessing Tuple Items\n",
        "Accessing items in a tuple is similar to accessing items in a list.\n"
      ],
      "metadata": {
        "id": "n0cWl7EtyAc9"
      }
    },
    {
      "cell_type": "code",
      "source": [
        "# Accessing tuple items\n",
        "print(\"Length:\", dimensions[1])\n"
      ],
      "metadata": {
        "id": "yvWvvqHoyBYt",
        "colab": {
          "base_uri": "https://localhost:8080/"
        },
        "outputId": "5c63918e-301f-4494-cfe2-869e5e9ea46a"
      },
      "execution_count": null,
      "outputs": [
        {
          "output_type": "stream",
          "name": "stdout",
          "text": [
            "Length: 50\n"
          ]
        }
      ]
    },
    {
      "cell_type": "markdown",
      "source": [
        "## Part 4: Dictionaries\n",
        "\n",
        "Dictionaries are incredibly useful data structures in Python. Think of them as real-life dictionaries: you have a word (the \"key\") and a definition (the \"value\").\n",
        "\n",
        "In Python, dictionaries are a collection of key-value pairs. They're unordered, changeable, and do not allow duplicates - which means that each key must be unique. You can use any immutable data type as a key (like numbers or strings), and practically any data type as a value.\n",
        "\n",
        "Here's an example of a dictionary:\n",
        "\n",
        "```python\n",
        "person = {\n",
        "    \"name\": \"Alice\",\n",
        "    \"age\": 25,\n",
        "    \"city\": \"New York\"\n",
        "}\n",
        "```\n",
        "\n",
        "In this dictionary, \"name\", \"age\", and \"city\" are the keys, and \"Alice\", 25, and \"New York\" are the corresponding values.\n",
        "\n",
        "You can access the values in a dictionary by referring to the name of the key like this:\n",
        "\n",
        "```python\n",
        "print(person[\"name\"])  # Will output: Alice\n",
        "```\n",
        "\n",
        "If you want to change a value in the dictionary, you can do so by referencing the key:\n",
        "\n",
        "```python\n",
        "person[\"age\"] = 26  # Alice just had a birthday!\n",
        "```\n",
        "\n",
        "If you want to add a new key-value pair, you can do so like this:\n",
        "\n",
        "```python\n",
        "person[\"job\"] = \"Engineer\"  # Alice is an Engineer\n",
        "```\n",
        "\n",
        "You can also remove key-value pairs using the `del` keyword:\n",
        "\n",
        "```python\n",
        "del person[\"city\"]  # Alice doesn't want to share her city anymore\n",
        "```\n",
        "\n",
        "Dictionaries can also hold complex types like lists, tuples, and other dictionaries. This makes them really powerful for structuring and organizing data in your Python programs.\n",
        "\n",
        "\n",
        "\n",
        "### 4.1 Creating Dictionaries\n",
        "Dictionaries are created by placing a comma-separated list of key:value pairs within curly braces `{}`.\n"
      ],
      "metadata": {
        "id": "rbPKeGaxyC6N"
      }
    },
    {
      "cell_type": "code",
      "source": [
        "# Example of creating a dictionary\n",
        "car = {\"brand\": \"Ford\",\n",
        "       \"model\": \"Mustang\",\n",
        "       \"year\": 1964}\n",
        "print(\"Car Dictionary:\", car)\n"
      ],
      "metadata": {
        "colab": {
          "base_uri": "https://localhost:8080/"
        },
        "id": "URDXqhKmyEtN",
        "outputId": "6199c8b7-1e78-4712-95d0-2afd1b0c8f5f"
      },
      "execution_count": null,
      "outputs": [
        {
          "output_type": "stream",
          "name": "stdout",
          "text": [
            "Car Dictionary: {'brand': 'Ford', 'model': 'Mustang', 'year': 1964}\n"
          ]
        }
      ]
    },
    {
      "cell_type": "code",
      "source": [
        "car['engine'] = 'v8' # Adding a new key-value pair"
      ],
      "metadata": {
        "id": "6YP2ks5V-W7F"
      },
      "execution_count": null,
      "outputs": []
    },
    {
      "cell_type": "markdown",
      "source": [
        "## Understanding Dictionary Key-Value Pairs\n",
        "\n",
        "Each key-value pair in a dictionary maps the key to its associated value.\n",
        "\n",
        "- **Keys**: A dictionary key can be almost any Python type, but are usually numbers or strings. Booleans, integers, and tuples can also be dictionary keys because they are immutable.\n",
        "- **Values**: Dictionary values can be any Python object, including dictionaries.\n",
        "\n",
        "Keys in a dictionary must be unique. If you store data using a key that is already in use, the old value associated with that key will be overwritten.\n"
      ],
      "metadata": {
        "id": "1vvwQZsP13ce"
      }
    },
    {
      "cell_type": "markdown",
      "source": [
        "# Section 4.2: Accessing and Modifying Dictionary Elements\n",
        "\n",
        "Once a dictionary is created, you can access the values stored in it via their keys. Modifying a dictionary includes adding, updating, or removing elements. This section covers how to work with dictionary elements after their creation.\n",
        "\n",
        "## Modifying Dictionary Elements\n",
        "\n",
        "Dictionaries are mutable, which means you can change, add, or delete dictionary elements after the dictionary has been created.\n",
        "\n",
        "### Updating an Existing Element\n",
        "\n",
        "You can update the value of an existing key by assigning a new value to it using square brackets `[]`.\n",
        "\n"
      ],
      "metadata": {
        "id": "AdNh9UGUyFjV"
      }
    },
    {
      "cell_type": "code",
      "source": [
        "# Add a new key-value pair\n",
        "car[\"color\"] = \"red\"\n",
        "print(car['color'])\n"
      ],
      "metadata": {
        "id": "a467mhziyGQd"
      },
      "execution_count": null,
      "outputs": []
    },
    {
      "cell_type": "markdown",
      "source": [
        "### 4.3 Dictionary Methods\n",
        "Dictionaries have a variety of useful methods such as `keys()`, `values()`, and `items()`.\n"
      ],
      "metadata": {
        "id": "06X_mFDRyG8G"
      }
    },
    {
      "cell_type": "code",
      "source": [
        "# Dictionary methods\n",
        "print(\"All Keys:\", car.keys())\n",
        "print(\"All Values:\", car.values())\n"
      ],
      "metadata": {
        "id": "zA1KChVSyHnm"
      },
      "execution_count": null,
      "outputs": []
    },
    {
      "cell_type": "code",
      "source": [
        "print(car.items())"
      ],
      "metadata": {
        "id": "qc__T2cL2txW"
      },
      "execution_count": null,
      "outputs": []
    }
  ]
}