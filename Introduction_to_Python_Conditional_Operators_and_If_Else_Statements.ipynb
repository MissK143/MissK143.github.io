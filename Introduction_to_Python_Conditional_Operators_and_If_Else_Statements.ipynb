{
  "nbformat": 4,
  "nbformat_minor": 0,
  "metadata": {
    "colab": {
      "provenance": [],
      "include_colab_link": true
    },
    "kernelspec": {
      "name": "python3",
      "display_name": "Python 3"
    },
    "language_info": {
      "name": "python"
    }
  },
  "cells": [
    {
      "cell_type": "markdown",
      "metadata": {
        "id": "view-in-github",
        "colab_type": "text"
      },
      "source": [
        "<a href=\"https://colab.research.google.com/github/MissK143/MissK143.github.io/blob/main/Introduction_to_Python_Conditional_Operators_and_If_Else_Statements.ipynb\" target=\"_parent\"><img src=\"https://colab.research.google.com/assets/colab-badge.svg\" alt=\"Open In Colab\"/></a>"
      ]
    },
    {
      "cell_type": "markdown",
      "source": [
        "# Lesson 5: Conditional Operators and If-Else Statement\n",
        "\n",
        "### Learning Objectives\n",
        "- Understand boolean values and expressions\n",
        "- Master conditional operators: comparison and logical operators\n",
        "- Implement control flow using the `if-else` statement\n",
        "\n",
        "### Boolean Expressions\n",
        "A boolean expression is an expression that evaluates to either `True` or `False`. In Python, these values are represented by the keywords `True` and `False`. Boolean expressions often involve comparison operators and logical operators. For example:\n",
        "\n",
        "- Comparison Operators: `==`, `!=`, `<`, `>`, `<=`, `>=`\n",
        "\n",
        "Let's examine how boolean expressions work in Python:\n"
      ],
      "metadata": {
        "id": "yTMMKJMTZc0l"
      }
    },
    {
      "cell_type": "code",
      "source": [
        "# int 1,2,3,4,5\n",
        "# string \"text\",\"apple\",\"banana\"\n",
        "# float 2.5, 6.4, 4.2\n",
        "# bool True, False\n"
      ],
      "metadata": {
        "id": "8Wo0loRX1HJw"
      },
      "execution_count": null,
      "outputs": []
    },
    {
      "cell_type": "code",
      "source": [
        "# Examples of boolean expressions using comparison operators\n",
        "a = 10\n",
        "b = 20\n",
        "\n",
        "print(a == b)   # False, because 10 is not equal to 20"
      ],
      "metadata": {
        "id": "d1PEIXAhZdBe",
        "colab": {
          "base_uri": "https://localhost:8080/"
        },
        "outputId": "ae294f28-c9e7-433e-f251-d40c652f0f33"
      },
      "execution_count": null,
      "outputs": [
        {
          "output_type": "stream",
          "name": "stdout",
          "text": [
            "False\n"
          ]
        }
      ]
    },
    {
      "cell_type": "code",
      "source": [
        "print(a != b)   # True, because 10 is not equal to 20"
      ],
      "metadata": {
        "id": "dAz3TYV3Z_d-",
        "colab": {
          "base_uri": "https://localhost:8080/"
        },
        "outputId": "9e8d2627-16a4-451e-ce7b-42f494d00e19"
      },
      "execution_count": null,
      "outputs": [
        {
          "output_type": "stream",
          "name": "stdout",
          "text": [
            "True\n"
          ]
        }
      ]
    },
    {
      "cell_type": "code",
      "source": [
        "print(a < b)    # True, because 10 is less than 20"
      ],
      "metadata": {
        "id": "sOIGqP1aaBow",
        "colab": {
          "base_uri": "https://localhost:8080/"
        },
        "outputId": "5399c2e3-30ee-49ce-fd50-0e530d70193b"
      },
      "execution_count": null,
      "outputs": [
        {
          "output_type": "stream",
          "name": "stdout",
          "text": [
            "True\n"
          ]
        }
      ]
    },
    {
      "cell_type": "code",
      "source": [
        "print(a > b)    # False, because 10 is not greater than 20"
      ],
      "metadata": {
        "id": "nWsGyUobaCuA",
        "colab": {
          "base_uri": "https://localhost:8080/"
        },
        "outputId": "16896b2f-0b95-44da-a556-238e3de998b3"
      },
      "execution_count": null,
      "outputs": [
        {
          "output_type": "stream",
          "name": "stdout",
          "text": [
            "False\n"
          ]
        }
      ]
    },
    {
      "cell_type": "code",
      "source": [
        "print(a <= b)   # True, because 10 is less than or equal to 20"
      ],
      "metadata": {
        "id": "L3QbC58DaDxf",
        "colab": {
          "base_uri": "https://localhost:8080/"
        },
        "outputId": "98cca925-e8f0-4bf5-cbef-2539cf83be5c"
      },
      "execution_count": null,
      "outputs": [
        {
          "output_type": "stream",
          "name": "stdout",
          "text": [
            "True\n"
          ]
        }
      ]
    },
    {
      "cell_type": "code",
      "source": [
        "print(a >= b)   # False, because 10 is not greater than or equal to 20"
      ],
      "metadata": {
        "id": "OkOAqyk-aE3v",
        "colab": {
          "base_uri": "https://localhost:8080/"
        },
        "outputId": "115f157d-17a4-46ea-b466-5b8f75b4cbb1"
      },
      "execution_count": null,
      "outputs": [
        {
          "output_type": "stream",
          "name": "stdout",
          "text": [
            "False\n"
          ]
        }
      ]
    },
    {
      "cell_type": "code",
      "source": [
        "# Trying the same thing with strings\n",
        "x = \"word\"\n",
        "y = \"word\"\n",
        "\n",
        "print(x==y)"
      ],
      "metadata": {
        "id": "6Pc9tQXugAjA",
        "colab": {
          "base_uri": "https://localhost:8080/"
        },
        "outputId": "7ffb8f4b-05bd-487f-c98b-24fe2c5c8bb4"
      },
      "execution_count": null,
      "outputs": [
        {
          "output_type": "stream",
          "name": "stdout",
          "text": [
            "True\n"
          ]
        }
      ]
    },
    {
      "cell_type": "markdown",
      "source": [
        "### Conditional Operators and the `if-else` Statement\n",
        "Conditional operators help implement decision-making logic in Python. We use the `if-else` statement to control which block of code gets executed based on the evaluation of a condition.\n",
        "\n",
        "#### The `if-else` Statement\n",
        "The `if-else` statement executes a block of code if a condition is `True`; otherwise, it executes a different block.\n",
        "\n",
        "#### Syntax:\n",
        "```python\n",
        "if condition:\n",
        "    # Block executed if condition is True\n",
        "else:\n",
        "    # Block executed if condition is False\n",
        "```\n",
        "\n",
        "Imagine you have a variable `weather` which can be either `\"sunny\"` or `\"rainy\"`. Here's how you could use an `if-else` statement:\n",
        "\n",
        "```python\n",
        "weather = \"sunny\"\n",
        "\n",
        "if weather == \"rainy\":\n",
        "    print(\"I will carry an umbrella!\")\n",
        "else:\n",
        "    print(\"I will wear sunglasses!\")\n",
        "```\n",
        "\n",
        "In this example, since `weather` is `\"sunny\"`, the output will be:\n",
        "\n",
        "```\n",
        "I will wear sunglasses!\n",
        "```"
      ],
      "metadata": {
        "id": "AqePFDoVaLNW"
      }
    },
    {
      "cell_type": "code",
      "source": [
        "# Example 1: Basic if-else statement\n",
        "num = -5\n",
        "\n",
        "if num > 0:\n",
        "    print(f\"{num} is positive\")\n",
        "else:\n",
        "    print(f\"{num} is not positive\")\n"
      ],
      "metadata": {
        "colab": {
          "base_uri": "https://localhost:8080/"
        },
        "id": "axC_1RDydiiA",
        "outputId": "91217ef7-527a-4c76-9458-7e955f2b7859"
      },
      "execution_count": null,
      "outputs": [
        {
          "output_type": "stream",
          "name": "stdout",
          "text": [
            "-5 is not positive\n"
          ]
        }
      ]
    },
    {
      "cell_type": "code",
      "source": [
        "weather=\"rainy\""
      ],
      "metadata": {
        "id": "8M4_72i4rmEq"
      },
      "execution_count": null,
      "outputs": []
    },
    {
      "cell_type": "code",
      "source": [
        "if weather==\"rainy\":\n",
        "  print(\"The weather is rainy\")\n",
        "  print(\"Carry an umbrella\")\n",
        "  print(\"It might even thunderstorm so stay indoors\")\n",
        "else:\n",
        "  print(\"The weather is not rainy\")\n",
        "  print(\"Go outside\")\n"
      ],
      "metadata": {
        "colab": {
          "base_uri": "https://localhost:8080/"
        },
        "id": "SAFOOu17roCx",
        "outputId": "784a3f36-c4ad-4c8e-f71a-bb1bcce5d4b2"
      },
      "execution_count": null,
      "outputs": [
        {
          "output_type": "stream",
          "name": "stdout",
          "text": [
            "The weather is rainy\n",
            "Carry an umbrella\n",
            "It might even thunderstorm so stay indoors\n"
          ]
        }
      ]
    },
    {
      "cell_type": "markdown",
      "source": [
        "The elif (else-if) statement allows us to check multiple conditions sequentially.\n",
        "\n",
        "```python\n",
        "if condition1:\n",
        "    # Block executed if condition1 is True\n",
        "elif condition2:\n",
        "    # Block executed if condition1 is False and condition2 is True\n",
        "else:\n",
        "    # Block executed if both condition1 and condition2 are False\n",
        "```"
      ],
      "metadata": {
        "id": "Vb5F2avjdnhP"
      }
    },
    {
      "cell_type": "code",
      "source": [
        "# Example 2: if-elif-else statement\n",
        "num = 0\n",
        "\n",
        "if num > 0:\n",
        "    print(f\"{num} is positive\")\n",
        "elif num == 0:\n",
        "    print(f\"{num} is zero\")\n",
        "else:\n",
        "    print(f\"{num} is negative\")"
      ],
      "metadata": {
        "colab": {
          "base_uri": "https://localhost:8080/"
        },
        "id": "CGtOs2ywdn5-",
        "outputId": "bdb33553-5789-462e-c185-81739a582fda"
      },
      "execution_count": null,
      "outputs": [
        {
          "output_type": "stream",
          "name": "stdout",
          "text": [
            "0 is zero\n"
          ]
        }
      ]
    },
    {
      "cell_type": "code",
      "source": [
        "# Real world example\n",
        "income = 15000"
      ],
      "metadata": {
        "id": "CBcu8j3U5JHg"
      },
      "execution_count": null,
      "outputs": []
    },
    {
      "cell_type": "code",
      "source": [
        "if income >= 10000 < 20000:\n",
        "  print(\"Provide a loan of $20,000\")\n",
        "  print(\"Thank you for banking with us\")\n",
        "\n",
        "elif income > 20000 and income < 100000:\n",
        "  print(\"Provide a loan of $40,000\")\n",
        "  print(\"Thank you for banking with us\")\n",
        "\n",
        "elif income > 100000:\n",
        "  print(\"Provide a loan of $200,000\")\n",
        "  print(\"Thank you for banking with us\")\n",
        "\n",
        "else:\n",
        "  print(\"Do not provide a loan\")\n",
        "  print(\"Thank you for banking with us\")"
      ],
      "metadata": {
        "colab": {
          "base_uri": "https://localhost:8080/"
        },
        "id": "EGfTiXqM5aCp",
        "outputId": "654d1311-d18f-4485-abbc-74bca114ed96"
      },
      "execution_count": null,
      "outputs": [
        {
          "output_type": "stream",
          "name": "stdout",
          "text": [
            "Provide a loan of $20,000\n",
            "Thank you for banking with us\n"
          ]
        }
      ]
    },
    {
      "cell_type": "code",
      "source": [],
      "metadata": {
        "id": "BI1FBPrw5nPw"
      },
      "execution_count": null,
      "outputs": []
    }
  ]
}