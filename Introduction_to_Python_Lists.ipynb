{
  "nbformat": 4,
  "nbformat_minor": 0,
  "metadata": {
    "colab": {
      "provenance": [],
      "include_colab_link": true
    },
    "kernelspec": {
      "name": "python3",
      "display_name": "Python 3"
    },
    "language_info": {
      "name": "python"
    }
  },
  "cells": [
    {
      "cell_type": "markdown",
      "metadata": {
        "id": "view-in-github",
        "colab_type": "text"
      },
      "source": [
        "<a href=\"https://colab.research.google.com/github/MissK143/MissK143.github.io/blob/main/Introduction_to_Python_Lists.ipynb\" target=\"_parent\"><img src=\"https://colab.research.google.com/assets/colab-badge.svg\" alt=\"Open In Colab\"/></a>"
      ]
    },
    {
      "cell_type": "markdown",
      "source": [
        "# Lists"
      ],
      "metadata": {
        "id": "6Z4gcJoT1tsD"
      }
    },
    {
      "cell_type": "code",
      "source": [
        "produce_1 = \"banana\"\n",
        "produce_2 = \"apple\"\n",
        "produce_3 = \"lemon\"\n",
        "produce_4 = \"watermelon\"\n",
        "produce_5 = \"blueberry\"\n",
        "produce_6 = \"strawberry\"\n",
        "produce_7 = \"blackberry\""
      ],
      "metadata": {
        "id": "OgUfCo_i1yKm"
      },
      "execution_count": null,
      "outputs": []
    },
    {
      "cell_type": "code",
      "source": [
        "produce = [\"banana\",\"apple\",\"lemon\",\"watermelon\",\"blueberry\",\"strawberry\",\"blackberry\"]"
      ],
      "metadata": {
        "id": "TpHEaBtB1_lB"
      },
      "execution_count": null,
      "outputs": []
    },
    {
      "cell_type": "code",
      "source": [
        "print(produce)"
      ],
      "metadata": {
        "colab": {
          "base_uri": "https://localhost:8080/"
        },
        "id": "83yJn_UG2ucp",
        "outputId": "ffdc63da-457e-4295-d7a8-c8cc1f1d4f5f"
      },
      "execution_count": null,
      "outputs": [
        {
          "output_type": "stream",
          "name": "stdout",
          "text": [
            "['banana', 'apple', 'lemon', 'watermelon', 'blueberry', 'strawberry', 'blackberry']\n"
          ]
        }
      ]
    },
    {
      "cell_type": "code",
      "source": [
        "produce.remove(\"blueberry\")"
      ],
      "metadata": {
        "id": "RpDN7me32vkR"
      },
      "execution_count": null,
      "outputs": []
    },
    {
      "cell_type": "code",
      "source": [
        "print(produce)"
      ],
      "metadata": {
        "colab": {
          "base_uri": "https://localhost:8080/"
        },
        "id": "7Jb1tlvV3kvh",
        "outputId": "bd459a75-4943-4ce3-cb36-5a2a87ffe2da"
      },
      "execution_count": null,
      "outputs": [
        {
          "output_type": "stream",
          "name": "stdout",
          "text": [
            "['banana', 'apple', 'lemon', 'watermelon', 'strawberry', 'blackberry']\n"
          ]
        }
      ]
    },
    {
      "cell_type": "code",
      "source": [
        "produce.append(\"lime\")"
      ],
      "metadata": {
        "id": "9nwLzrRK3lXh"
      },
      "execution_count": null,
      "outputs": []
    },
    {
      "cell_type": "code",
      "source": [
        "print(produce)"
      ],
      "metadata": {
        "colab": {
          "base_uri": "https://localhost:8080/"
        },
        "id": "bgj9BSra3x_g",
        "outputId": "8689c36f-b075-4bc5-c58d-aefa23698bef"
      },
      "execution_count": null,
      "outputs": [
        {
          "output_type": "stream",
          "name": "stdout",
          "text": [
            "['banana', 'apple', 'lemon', 'watermelon', 'strawberry', 'blackberry', 'lime']\n"
          ]
        }
      ]
    },
    {
      "cell_type": "code",
      "source": [
        "produce.count(\"apple\")"
      ],
      "metadata": {
        "colab": {
          "base_uri": "https://localhost:8080/"
        },
        "id": "IyuoAQhq3y7x",
        "outputId": "8de1682b-f157-4349-d739-7966f57f211a"
      },
      "execution_count": null,
      "outputs": [
        {
          "output_type": "execute_result",
          "data": {
            "text/plain": [
              "1"
            ]
          },
          "metadata": {},
          "execution_count": 60
        }
      ]
    },
    {
      "cell_type": "code",
      "source": [
        "produce.reverse()"
      ],
      "metadata": {
        "id": "lmkQkYre37tB"
      },
      "execution_count": null,
      "outputs": []
    },
    {
      "cell_type": "code",
      "source": [
        "print(produce)"
      ],
      "metadata": {
        "colab": {
          "base_uri": "https://localhost:8080/"
        },
        "id": "w5ihZi0l4AZC",
        "outputId": "7dab2b92-583c-4627-c2c1-62517045919a"
      },
      "execution_count": null,
      "outputs": [
        {
          "output_type": "stream",
          "name": "stdout",
          "text": [
            "['lime', 'blackberry', 'strawberry', 'watermelon', 'lemon', 'apple', 'banana']\n"
          ]
        }
      ]
    },
    {
      "cell_type": "code",
      "source": [
        "produce.sort()"
      ],
      "metadata": {
        "id": "DHyHYrZI4BeB"
      },
      "execution_count": null,
      "outputs": []
    },
    {
      "cell_type": "code",
      "source": [
        "print(produce)"
      ],
      "metadata": {
        "colab": {
          "base_uri": "https://localhost:8080/"
        },
        "id": "CO0OAA0i4H4j",
        "outputId": "2a272fa1-8340-4333-a744-0d859350c834"
      },
      "execution_count": null,
      "outputs": [
        {
          "output_type": "stream",
          "name": "stdout",
          "text": [
            "['apple', 'banana', 'blackberry', 'lemon', 'lime', 'strawberry', 'watermelon']\n"
          ]
        }
      ]
    },
    {
      "cell_type": "code",
      "source": [
        "print(produce)"
      ],
      "metadata": {
        "colab": {
          "base_uri": "https://localhost:8080/"
        },
        "id": "QdVosBTk4IgT",
        "outputId": "b9ab8824-b853-4563-e8a4-7401ae3bcd8c"
      },
      "execution_count": null,
      "outputs": [
        {
          "output_type": "stream",
          "name": "stdout",
          "text": [
            "['apple', 'banana', 'blackberry', 'lemon', 'lime', 'strawberry', 'watermelon']\n"
          ]
        }
      ]
    },
    {
      "cell_type": "code",
      "source": [
        "print(produce[4])"
      ],
      "metadata": {
        "colab": {
          "base_uri": "https://localhost:8080/"
        },
        "id": "7h1OkYPZ4aJS",
        "outputId": "75af4371-2bf1-4fbb-8c33-137142fda36e"
      },
      "execution_count": null,
      "outputs": [
        {
          "output_type": "stream",
          "name": "stdout",
          "text": [
            "lime\n"
          ]
        }
      ]
    },
    {
      "cell_type": "code",
      "source": [
        "sales = [0, 1, 2, 3, 2, 3, 5, 3,5 ,3 ,5, 6,3 ,5 ,6,3 ,4, 3,4,56 , 34,3]"
      ],
      "metadata": {
        "id": "VgUdMhYx4egj"
      },
      "execution_count": null,
      "outputs": []
    },
    {
      "cell_type": "code",
      "source": [
        "print(sales)"
      ],
      "metadata": {
        "colab": {
          "base_uri": "https://localhost:8080/"
        },
        "id": "TxPFLpVl4711",
        "outputId": "bdb5f5f2-98a1-4f8c-a902-7781e1f31127"
      },
      "execution_count": null,
      "outputs": [
        {
          "output_type": "stream",
          "name": "stdout",
          "text": [
            "[0, 1, 2, 3, 2, 3, 5, 3, 5, 3, 5, 6, 3, 5, 6, 3, 4, 3, 4, 56, 34, 3]\n"
          ]
        }
      ]
    },
    {
      "cell_type": "code",
      "source": [
        "print(sales[0:15])"
      ],
      "metadata": {
        "colab": {
          "base_uri": "https://localhost:8080/"
        },
        "id": "Wv5s9PvD59Th",
        "outputId": "fba1d2d4-0400-4a64-84f1-19ed5a9253aa"
      },
      "execution_count": null,
      "outputs": [
        {
          "output_type": "stream",
          "name": "stdout",
          "text": [
            "[0, 1, 2, 3, 2, 3, 5, 3, 5, 3, 5, 6, 3, 5, 6]\n"
          ]
        }
      ]
    },
    {
      "cell_type": "code",
      "source": [
        "print(sales)"
      ],
      "metadata": {
        "colab": {
          "base_uri": "https://localhost:8080/"
        },
        "id": "DQUGbgE_6cbh",
        "outputId": "3dc129a8-560a-485b-e4e4-55e26a0401c0"
      },
      "execution_count": null,
      "outputs": [
        {
          "output_type": "stream",
          "name": "stdout",
          "text": [
            "[0, 1, 2, 2, 3, 3, 3, 3, 3, 3, 3, 3, 4, 4, 5, 5, 5, 5, 6, 6, 34, 56]\n"
          ]
        }
      ]
    }
  ]
}