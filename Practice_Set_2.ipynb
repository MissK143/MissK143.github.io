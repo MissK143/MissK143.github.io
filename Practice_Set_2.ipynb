{
  "nbformat": 4,
  "nbformat_minor": 0,
  "metadata": {
    "colab": {
      "provenance": [],
      "include_colab_link": true
    },
    "kernelspec": {
      "name": "python3",
      "display_name": "Python 3"
    },
    "language_info": {
      "name": "python"
    }
  },
  "cells": [
    {
      "cell_type": "markdown",
      "metadata": {
        "id": "view-in-github",
        "colab_type": "text"
      },
      "source": [
        "<a href=\"https://colab.research.google.com/github/MissK143/MissK143.github.io/blob/main/Practice_Set_2.ipynb\" target=\"_parent\"><img src=\"https://colab.research.google.com/assets/colab-badge.svg\" alt=\"Open In Colab\"/></a>"
      ]
    },
    {
      "cell_type": "markdown",
      "source": [
        "Write a Python function that takes a user's name, age, and favorite color as input and prints a formatted sentence: \"Hello, [name]! You are [age] years old and your favorite color is [color].\""
      ],
      "metadata": {
        "id": "lQ21JqrfueHN"
      }
    },
    {
      "cell_type": "code",
      "source": [],
      "metadata": {
        "id": "atnSQZNHujrN"
      },
      "execution_count": null,
      "outputs": []
    },
    {
      "cell_type": "markdown",
      "source": [
        "Create a Python function that calculates the compound interest for a principal amount, interest rate, and time period (given as arguments to the function). Use the formula:\n",
        "\n",
        "$V=P\\left(1+{\\frac {r}{n}}\\right)^{nt}$\n",
        "\n",
        "where P is the principal amount, r is the annual interest rate, n is the number of times interest is compounded per year, and t is the number of years. Print the final amount."
      ],
      "metadata": {
        "id": "3IrZsxZ_uj7N"
      }
    },
    {
      "cell_type": "code",
      "source": [],
      "metadata": {
        "id": "2CFYa7uCuyUZ"
      },
      "execution_count": null,
      "outputs": []
    },
    {
      "cell_type": "markdown",
      "source": [
        "Write a function that takes a word from the user and counts the number of vowels (a, e, i, o, u) in the word."
      ],
      "metadata": {
        "id": "1VYzGzq9vLyd"
      }
    },
    {
      "cell_type": "code",
      "source": [],
      "metadata": {
        "id": "7MKROtfTvjwe"
      },
      "execution_count": null,
      "outputs": []
    },
    {
      "cell_type": "markdown",
      "source": [
        "Create a Python function that takes a list of numbers and prints \"even\" or \"odd\" for each number in the list. Additionally, if a number is prime, it should print \"prime\" instead."
      ],
      "metadata": {
        "id": "s5MvIklpvp2-"
      }
    },
    {
      "cell_type": "code",
      "source": [],
      "metadata": {
        "id": "KfPO5ql9vqyO"
      },
      "execution_count": null,
      "outputs": []
    },
    {
      "cell_type": "markdown",
      "source": [
        "Create a dictionary representing a simple address book where keys are names and values are another dictionary with keys phone, email, and address."
      ],
      "metadata": {
        "id": "BsPCEBktv-xl"
      }
    },
    {
      "cell_type": "code",
      "source": [],
      "metadata": {
        "id": "65EPdCrpw3xe"
      },
      "execution_count": null,
      "outputs": []
    }
  ]
}