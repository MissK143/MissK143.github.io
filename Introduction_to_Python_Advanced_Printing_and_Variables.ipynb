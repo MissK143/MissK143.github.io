{
  "nbformat": 4,
  "nbformat_minor": 0,
  "metadata": {
    "colab": {
      "provenance": [],
      "include_colab_link": true
    },
    "kernelspec": {
      "name": "python3",
      "display_name": "Python 3"
    },
    "language_info": {
      "name": "python"
    }
  },
  "cells": [
    {
      "cell_type": "markdown",
      "metadata": {
        "id": "view-in-github",
        "colab_type": "text"
      },
      "source": [
        "<a href=\"https://colab.research.google.com/github/MissK143/MissK143.github.io/blob/main/Introduction_to_Python_Advanced_Printing_and_Variables.ipynb\" target=\"_parent\"><img src=\"https://colab.research.google.com/assets/colab-badge.svg\" alt=\"Open In Colab\"/></a>"
      ]
    },
    {
      "cell_type": "markdown",
      "source": [
        "# Lesson 2: Advanced Printing and Introduction to Variables\n",
        "\n",
        "In this lesson, we will explore more advanced features of the `print` function in Python, followed by an introduction to using variables.\n"
      ],
      "metadata": {
        "id": "5-VmrhjxXvzZ"
      }
    },
    {
      "cell_type": "markdown",
      "source": [
        "## Part 1: Advanced Use of Print Statements\n",
        "\n",
        "Before diving into new features, let's recap what we know about the `print` function.\n"
      ],
      "metadata": {
        "id": "25mAYzWQXxFQ"
      }
    },
    {
      "cell_type": "code",
      "source": [
        "# Example of a basic print statement\n",
        "print(\"Hello, Python!\")\n"
      ],
      "metadata": {
        "id": "GPjiK2RLXyzB"
      },
      "execution_count": null,
      "outputs": []
    },
    {
      "cell_type": "markdown",
      "source": [
        "### 1.1 Why Use a Comma to Separate Integers and Strings in Print Statements?\n",
        "\n",
        "When printing in Python, we often want to combine text (strings) and numbers (integers, floats) in a single statement for output. Using a comma to separate these items within a `print` function is a convenient way to construct readable and meaningful output without needing to concatenate strings or explicitly convert numbers to strings.\n",
        "\n",
        "#### Advantages of Using Commas in Print Statements:\n",
        "- **Simplicity**: It's straightforward; you just list the items separated by commas.\n",
        "- **Automatic Spacing**: Python automatically inserts a space between items, which helps in maintaining readability without additional effort.\n",
        "- **Type Conversion**: Python handles the conversion of non-string types (like integers and floats) to strings automatically, avoiding manual conversions and potential errors.\n"
      ],
      "metadata": {
        "id": "B6NG0Mo1YWhQ"
      }
    },
    {
      "cell_type": "code",
      "source": [
        "# Example of printing a full string.\n",
        "print(\"5+5\") # Python will treat anything that is within single or double quotes as a string.\n"
      ],
      "metadata": {
        "colab": {
          "base_uri": "https://localhost:8080/"
        },
        "id": "G9w7Q7B8YZLO",
        "outputId": "a7f4e593-a0a3-4e56-97db-b057364f94c3"
      },
      "execution_count": null,
      "outputs": [
        {
          "output_type": "stream",
          "name": "stdout",
          "text": [
            "5+5\n"
          ]
        }
      ]
    },
    {
      "cell_type": "code",
      "source": [
        "# Example of printing an int\n",
        "print(5+5) # Python will treat this as an integer because it is not within single or double quotes."
      ],
      "metadata": {
        "colab": {
          "base_uri": "https://localhost:8080/"
        },
        "id": "IZcrfsTlYvqQ",
        "outputId": "5f6bf77c-9c90-4cf4-ce62-b98e3a504728"
      },
      "execution_count": null,
      "outputs": [
        {
          "output_type": "stream",
          "name": "stdout",
          "text": [
            "10\n"
          ]
        }
      ]
    },
    {
      "cell_type": "code",
      "source": [
        "# Example of printing a string with integer values\n",
        "print(\"My name is Amish, and I have 5+5 years of experience\") # Python will automatically print the 5+5 as a text instead of printing this as an integer."
      ],
      "metadata": {
        "colab": {
          "base_uri": "https://localhost:8080/"
        },
        "id": "vGhllbQQY_eh",
        "outputId": "28ddde64-7adf-4c7e-98c1-0a526762ba0d"
      },
      "execution_count": null,
      "outputs": [
        {
          "output_type": "stream",
          "name": "stdout",
          "text": [
            "My name is Amish, and I have 5+5 years of experience\n"
          ]
        }
      ]
    },
    {
      "cell_type": "code",
      "source": [
        "print(\"My name is Amish, and I have\", 5+5, \"years of experience\") # Python will treat the string as text, and the numbers as an integer and actually add the numbers instead."
      ],
      "metadata": {
        "colab": {
          "base_uri": "https://localhost:8080/"
        },
        "id": "iEqAOCAdZOwJ",
        "outputId": "7b5db928-088e-4c38-db03-80de7237b6d5"
      },
      "execution_count": null,
      "outputs": [
        {
          "output_type": "stream",
          "name": "stdout",
          "text": [
            "My name is Amish, and I have 10 years of experience\n"
          ]
        }
      ]
    },
    {
      "cell_type": "markdown",
      "source": [
        "This method is especially useful when generating outputs that include a mix of data types. It simplifies the code and makes it more accessible to beginners who might not yet be familiar with type casting or string formatting methods.\n",
        "\n",
        "#### Practical Use Case:\n",
        "Suppose you are generating a report that lists the name of a person along with their age. The simplicity of using commas in the `print` statement allows for easy adjustments without complicating the syntax.\n",
        "\n",
        "- **Readability**: Easier for someone new to programming to understand and use effectively.\n",
        "- **Maintainability**: Reduces the likelihood of errors when mixing types and simplifies debugging.\n",
        "\n"
      ],
      "metadata": {
        "id": "OldKzOPLYadA"
      }
    },
    {
      "cell_type": "markdown",
      "source": [
        "### 1.2 Printing with Separation\n",
        "\n",
        "The `print` function can take multiple arguments and separates them with a space by default. However, we can customize this behavior.\n"
      ],
      "metadata": {
        "id": "4l8hn5adXz_5"
      }
    },
    {
      "cell_type": "code",
      "source": [
        "print(\"sentence1\",\"sentence2\")"
      ],
      "metadata": {
        "colab": {
          "base_uri": "https://localhost:8080/"
        },
        "id": "niQ5weam7lO3",
        "outputId": "14fe7cac-082e-4c17-c81c-3d9a347aacaf"
      },
      "execution_count": null,
      "outputs": [
        {
          "output_type": "stream",
          "name": "stdout",
          "text": [
            "sentence1 sentence2\n"
          ]
        }
      ]
    },
    {
      "cell_type": "code",
      "source": [
        "# Printing with a comma instead of a space\n",
        "print(\"Hello\", \"Python\", sep=\"\")"
      ],
      "metadata": {
        "colab": {
          "base_uri": "https://localhost:8080/"
        },
        "id": "Zf_3QEfdX1Yw",
        "outputId": "13120b5e-11a4-4cfa-d1c0-832a37cbe71a"
      },
      "execution_count": null,
      "outputs": [
        {
          "output_type": "stream",
          "name": "stdout",
          "text": [
            "HelloPython\n"
          ]
        }
      ]
    },
    {
      "cell_type": "markdown",
      "source": [
        "### 1.3 Introduction to f-strings in Python\n",
        "\n",
        "Python 3.6 introduced a new string formatting mechanism known as \"f-strings\" or \"formatted string literals.\" These strings are prefixed with 'f' or 'F', and expressions you want to format are written inside curly braces directly within the string.\n",
        "\n",
        "#### Why Use f-strings?\n",
        "- **Clarity and Readability**: f-strings make it easier to embed expressions inside string literals for formatting, leading to clearer and more readable code.\n",
        "- **Simplicity**: Directly embedding Python expressions in string literals simplifies string formatting, reducing the likelihood of errors and making the code more straightforward.\n",
        "\n",
        "#### Basic Syntax of f-strings:\n",
        "The syntax is simple: prefix the string with the letter \"f\" and write your expression inside `{}` as part of the string.\n"
      ],
      "metadata": {
        "id": "TN3RfsPvZ4yi"
      }
    },
    {
      "cell_type": "code",
      "source": [
        "# Example of an f-string\n",
        "print(f\"My name is Amish, and I have {5+5} years of experience\")"
      ],
      "metadata": {
        "id": "3zn7TA14Z9pR"
      },
      "execution_count": null,
      "outputs": []
    },
    {
      "cell_type": "markdown",
      "source": [
        "## Part 2: Introduction to Variables\n",
        "\n",
        "Variables are essential in any programming language as they allow you to store information to be referenced and manipulated in a program.\n"
      ],
      "metadata": {
        "id": "1CP6m1_UX6J5"
      }
    },
    {
      "cell_type": "markdown",
      "source": [
        "### 2.1 What is a Variable?\n",
        "\n",
        "A variable in Python is a reserved memory location to store values. In other words, a variable in a program gives data to the computer for processing.\n"
      ],
      "metadata": {
        "id": "mwp4KcwJX8Xp"
      }
    },
    {
      "cell_type": "code",
      "source": [
        "# Name of a company\n",
        "\"Amish and company limited incorporated in the United States of America\""
      ],
      "metadata": {
        "id": "509puH70-Klx"
      },
      "execution_count": null,
      "outputs": []
    },
    {
      "cell_type": "code",
      "source": [
        "# Print the name of the company\n",
        "print(\"The name of my company is Amish and company limited incorporated in the United States of America\")"
      ],
      "metadata": {
        "id": "flcFLCKz-RAJ"
      },
      "execution_count": null,
      "outputs": []
    },
    {
      "cell_type": "code",
      "source": [
        "# Variable to store the name of the company\n",
        "x = \"Amish and company limited incorporated in the United States of America\"\n",
        "\n",
        "# Every time that I print x, it will print out the name of the company\n",
        "print(x)"
      ],
      "metadata": {
        "colab": {
          "base_uri": "https://localhost:8080/"
        },
        "id": "5kwRdANw-XlJ",
        "outputId": "a1f2a6ea-3edd-404d-e99d-e760b2865fd7"
      },
      "execution_count": null,
      "outputs": [
        {
          "output_type": "stream",
          "name": "stdout",
          "text": [
            "Amish and company limited incorporated in the United States of America\n"
          ]
        }
      ]
    },
    {
      "cell_type": "code",
      "source": [
        "# Example of variable assignment\n",
        "my_number = 10\n",
        "print(my_number)\n"
      ],
      "metadata": {
        "colab": {
          "base_uri": "https://localhost:8080/"
        },
        "id": "wnV69YE1X9dZ",
        "outputId": "8459dc12-c9a6-47a5-c899-5dfec18b30af"
      },
      "execution_count": null,
      "outputs": [
        {
          "output_type": "stream",
          "name": "stdout",
          "text": [
            "10\n"
          ]
        }
      ]
    },
    {
      "cell_type": "markdown",
      "source": [
        "### 2.2 Variables and Data Types\n",
        "\n",
        "In Python, a variable can hold different types of data. You've already seen integers, floats, and strings. Python is dynamically typed, which means you don’t need to declare the type of variable while defining it.\n"
      ],
      "metadata": {
        "id": "ainRhLE3X--5"
      }
    },
    {
      "cell_type": "code",
      "source": [
        "# Variables holding different types of data\n",
        "name = \"Alice\"\n",
        "age = 30\n",
        "height = 5.4\n",
        "print(name, age, height, sep=\", \")\n"
      ],
      "metadata": {
        "colab": {
          "base_uri": "https://localhost:8080/"
        },
        "id": "5uCcFDv7YANp",
        "outputId": "7663d850-081c-4f1b-d5d5-c93ec07a72ef"
      },
      "execution_count": null,
      "outputs": [
        {
          "output_type": "stream",
          "name": "stdout",
          "text": [
            "Alice, 30, 5.4\n"
          ]
        }
      ]
    },
    {
      "cell_type": "markdown",
      "source": [
        "### 2.3 Variable Naming Rules\n",
        "\n",
        "- Variable names must start with a letter or an underscore.\n",
        "- The rest of the name must consist of letters, numbers, or underscores.\n",
        "- Names are case-sensitive (`age`, `Age`, and `AGE` are three different variables).\n"
      ],
      "metadata": {
        "id": "Tabq2kQlYBPB"
      }
    },
    {
      "cell_type": "code",
      "source": [
        "# Trying to type in a variable with a number\n",
        "3age = 25 # Will get an error"
      ],
      "metadata": {
        "colab": {
          "base_uri": "https://localhost:8080/",
          "height": 106
        },
        "id": "RAZapVKd-2v4",
        "outputId": "1ee895d9-d076-42ff-a554-0ef623889bf4"
      },
      "execution_count": null,
      "outputs": [
        {
          "output_type": "error",
          "ename": "SyntaxError",
          "evalue": "invalid decimal literal (<ipython-input-30-157100930efd>, line 2)",
          "traceback": [
            "\u001b[0;36m  File \u001b[0;32m\"<ipython-input-30-157100930efd>\"\u001b[0;36m, line \u001b[0;32m2\u001b[0m\n\u001b[0;31m    3age = 25\u001b[0m\n\u001b[0m    ^\u001b[0m\n\u001b[0;31mSyntaxError\u001b[0m\u001b[0;31m:\u001b[0m invalid decimal literal\n"
          ]
        }
      ]
    },
    {
      "cell_type": "code",
      "source": [
        "# Demonstration of variable naming rules\n",
        "_age = 25\n",
        "Age = 30\n",
        "age = 20\n",
        "print(_age, Age, age)\n"
      ],
      "metadata": {
        "colab": {
          "base_uri": "https://localhost:8080/"
        },
        "id": "WnP_1h91YCUJ",
        "outputId": "2d510771-8861-469e-effc-ea4c92becac1"
      },
      "execution_count": null,
      "outputs": [
        {
          "output_type": "stream",
          "name": "stdout",
          "text": [
            "25 30 20\n"
          ]
        }
      ]
    },
    {
      "cell_type": "code",
      "source": [
        "print(Age)"
      ],
      "metadata": {
        "colab": {
          "base_uri": "https://localhost:8080/"
        },
        "id": "zVoyuryb_A2p",
        "outputId": "3bfb418f-cc8e-40fd-cf75-b828a2f752dd"
      },
      "execution_count": null,
      "outputs": [
        {
          "output_type": "stream",
          "name": "stdout",
          "text": [
            "30\n"
          ]
        }
      ]
    },
    {
      "cell_type": "code",
      "source": [
        "print(age)"
      ],
      "metadata": {
        "colab": {
          "base_uri": "https://localhost:8080/"
        },
        "id": "T7AS0Wq__FZx",
        "outputId": "43df0649-1ad8-433c-c496-3ed79538c193"
      },
      "execution_count": null,
      "outputs": [
        {
          "output_type": "stream",
          "name": "stdout",
          "text": [
            "20\n"
          ]
        }
      ]
    },
    {
      "cell_type": "markdown",
      "source": [
        "### 2.4 Printing Variables Using f-strings\n",
        "\n",
        "Now that you're familiar with variables and have been introduced to f-strings, let's combine these concepts to see how f-strings can simplify the process of printing variables.\n",
        "\n",
        "#### Benefits of Using f-strings with Variables:\n",
        "- **Clarity**: Directly insert variables into strings, which makes the code easier to read and maintain.\n",
        "- **Efficiency**: Less syntax to remember compared to other formatting methods and quicker execution.\n",
        "- **Flexibility**: Easily incorporate various formatting options directly within the string.\n"
      ],
      "metadata": {
        "id": "qDTnhfJvaseS"
      }
    },
    {
      "cell_type": "code",
      "source": [
        "# Example of printing variables using f-strings\n",
        "name = \"Alice\"\n",
        "age = 30\n",
        "height = 5.4\n",
        "print(f\"Name: {name}, Age: {age}, Height: {height} feet\")\n"
      ],
      "metadata": {
        "colab": {
          "base_uri": "https://localhost:8080/"
        },
        "id": "MRKbcyOFaszS",
        "outputId": "ad0a2531-b794-49a2-e0b4-98e322306b0a"
      },
      "execution_count": null,
      "outputs": [
        {
          "output_type": "stream",
          "name": "stdout",
          "text": [
            "Name: Alice, Age: 30, Height: 5.4 feet\n"
          ]
        }
      ]
    },
    {
      "cell_type": "markdown",
      "source": [
        "#### Dynamic Expressions in f-strings\n",
        "\n",
        "One of the most powerful features of f-strings is the ability to embed dynamic expressions directly within the placeholders. This can be particularly useful when you need to perform calculations or call functions while formatting your string.\n"
      ],
      "metadata": {
        "id": "eMVjnjNBa3KC"
      }
    },
    {
      "cell_type": "code",
      "source": [
        "# Dynamic calculation within an f-string\n",
        "units = 50\n",
        "unit_price = 19.99\n",
        "total_cost = f\"Total Cost: ${units + unit_price}\"\n",
        "print(total_cost)"
      ],
      "metadata": {
        "colab": {
          "base_uri": "https://localhost:8080/"
        },
        "id": "Q7SoqPH5a3lz",
        "outputId": "4718a1d6-a102-448d-be98-26ac8a719e5c"
      },
      "execution_count": null,
      "outputs": [
        {
          "output_type": "stream",
          "name": "stdout",
          "text": [
            "Total Cost: $69.99\n"
          ]
        }
      ]
    },
    {
      "cell_type": "code",
      "source": [],
      "metadata": {
        "id": "nHTRdH8v_hLt"
      },
      "execution_count": null,
      "outputs": []
    }
  ]
}