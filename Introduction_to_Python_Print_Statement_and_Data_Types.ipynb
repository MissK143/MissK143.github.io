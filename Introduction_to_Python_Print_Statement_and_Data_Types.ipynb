{
  "nbformat": 4,
  "nbformat_minor": 0,
  "metadata": {
    "colab": {
      "provenance": [],
      "include_colab_link": true
    },
    "kernelspec": {
      "name": "python3",
      "display_name": "Python 3"
    },
    "language_info": {
      "name": "python"
    }
  },
  "cells": [
    {
      "cell_type": "markdown",
      "metadata": {
        "id": "view-in-github",
        "colab_type": "text"
      },
      "source": [
        "<a href=\"https://colab.research.google.com/github/MissK143/MissK143.github.io/blob/main/Introduction_to_Python_Print_Statement_and_Data_Types.ipynb\" target=\"_parent\"><img src=\"https://colab.research.google.com/assets/colab-badge.svg\" alt=\"Open In Colab\"/></a>"
      ]
    },
    {
      "cell_type": "markdown",
      "source": [
        "## 1. Introduction to Colab\n",
        "\n",
        "### Code Cells vs Text Cells\n",
        "\n",
        "Google Colab offers two types of cells:\n",
        "- **Code cells** allow you to write and run Python code.\n",
        "- **Text cells** (like this one) allow you to add text using Markdown, which is a lightweight markup language with plain text formatting syntax.\n"
      ],
      "metadata": {
        "id": "Od1cBTN0C-gT"
      }
    },
    {
      "cell_type": "code",
      "source": [
        "# This is a code cell. Click the 'play' button on the left to execute the code.\n",
        "print(\"Hello, world!\")"
      ],
      "metadata": {
        "colab": {
          "base_uri": "https://localhost:8080/"
        },
        "id": "EDrXoWA-DCNz",
        "outputId": "eed2e9d7-0600-45e3-d877-31cfb346f32a"
      },
      "execution_count": null,
      "outputs": [
        {
          "output_type": "stream",
          "name": "stdout",
          "text": [
            "Hello, world!\n"
          ]
        }
      ]
    },
    {
      "cell_type": "markdown",
      "source": [
        "### How to Use Cells\n",
        "- **To add a cell**: Use the `+ Code` and `+ Text` buttons in the toolbar.\n",
        "- **To run a code cell**: Click the play icon on the left of the cell or press `Ctrl+Enter`.\n",
        "- **To edit a text cell**: Double-click the cell and start typing.\n"
      ],
      "metadata": {
        "id": "trcGrJAYDJG7"
      }
    },
    {
      "cell_type": "markdown",
      "source": [
        "## 2. Basic Python Syntax\n",
        "\n",
        "### Print Statements\n",
        "The `print()` function in Python is used to output information to the console. It can be used to display strings, numbers, or the result of an expression.\n",
        "\n",
        "**Examples:**"
      ],
      "metadata": {
        "id": "0w7flnM9DRfL"
      }
    },
    {
      "cell_type": "code",
      "source": [
        "print(\"Welcome to Python!\")"
      ],
      "metadata": {
        "colab": {
          "base_uri": "https://localhost:8080/"
        },
        "id": "DQWFxT03DGZz",
        "outputId": "a92895bb-a9fc-4a25-e82f-e85a2019c93f"
      },
      "execution_count": null,
      "outputs": [
        {
          "output_type": "stream",
          "name": "stdout",
          "text": [
            "Welcome to Python!\n"
          ]
        }
      ]
    },
    {
      "cell_type": "markdown",
      "source": [
        "### Comments\n",
        "Comments in Python start with the `#` symbol and are used to explain code. Anything following the `#` on a line is ignored by Python."
      ],
      "metadata": {
        "id": "Hl1UjTNPDaO7"
      }
    },
    {
      "cell_type": "code",
      "source": [
        "# Anything that I want here\n",
        "print(\"Learning Python is fun!\")"
      ],
      "metadata": {
        "colab": {
          "base_uri": "https://localhost:8080/"
        },
        "id": "W75rITmWDTxz",
        "outputId": "11acc50d-4979-4abd-a260-c985608f9ced"
      },
      "execution_count": null,
      "outputs": [
        {
          "output_type": "stream",
          "name": "stdout",
          "text": [
            "Learning Python is fun!\n"
          ]
        }
      ]
    },
    {
      "cell_type": "code",
      "source": [
        "# This is a single-line comment\n",
        "print(\"Test\")  # This is an inline comment\n",
        "# Comment here\n",
        "\n",
        "#Another comment here\n",
        "#Third comment here"
      ],
      "metadata": {
        "colab": {
          "base_uri": "https://localhost:8080/"
        },
        "id": "53M2Pvw-DVak",
        "outputId": "81bdfd40-3682-4463-89e3-de7601ec45b4"
      },
      "execution_count": null,
      "outputs": [
        {
          "output_type": "stream",
          "name": "stdout",
          "text": [
            "Test\n"
          ]
        }
      ]
    },
    {
      "cell_type": "markdown",
      "source": [
        "## 3. Python Data Types\n",
        "\n",
        "In Python, data types define the type of data that a variable can hold. Understanding data types is crucial because it affects what kind of operations you can perform on the data. Let’s explore the basic data types in Python: string, integer, float, and boolean.\n",
        "\n",
        "#### String (str)\n",
        "\n",
        "- **What is a String?**\n",
        "  A string in Python is a sequence of characters enclosed in quotes. You can use either single quotes (`' '`) or double quotes (`\" \"`), allowing you to include a quote character of the other type inside a string.\n",
        "\n",
        "- **Examples of Strings:**\n",
        "  ```python\n",
        "  'Hello, world!'\n",
        "  \"Python is fun!\"\n",
        "  \"I'm learning Python!\"\n",
        "  ```\n",
        "\n",
        "\n",
        "#### Integer (int)\n",
        "\n",
        "- **What is an Integer?**\n",
        "  An integer is a whole number, positive or negative, without any decimal point. Integers are often used in programming to count, to index items, or in various calculations.\n",
        "\n",
        "- **Examples of Integers:**\n",
        "  ```python\n",
        "  123\n",
        "  -456\n",
        "  0\n",
        "  ```\n",
        "\n",
        "- **Operations:**\n",
        "  - Addition: `5 + 3` gives `8`.\n",
        "  - Subtraction: `10 - 7` gives `3`.\n",
        "  - Multiplication: `4 * 3` gives `12`.\n",
        "\n",
        "#### Float (float)\n",
        "\n",
        "- **What is a Float?**\n",
        "  Float, or \"floating point number,\" is a number with a decimal point. Floats are used when more precision is needed than integers can provide.\n",
        "\n",
        "- **Examples of Floats:**\n",
        "  ```python\n",
        "  3.14\n",
        "  -0.001\n",
        "  2.0  # Note: even though this looks like an integer, the decimal makes it a float.\n",
        "  ```\n",
        "- **Operations:**\n",
        "  - Addition: `2.0 + 0.5` gives `2.5`.\n",
        "  - Subtraction: `5.5 - 0.5` gives `5.0`.\n",
        "  - Multiplication: `3.0 * 2.5` gives `7.5`.\n",
        "  - Division: `7.5 / 3.0` gives `2.5`.\n",
        "\n"
      ],
      "metadata": {
        "id": "CVfaWC_6EJfr"
      }
    }
  ]
}